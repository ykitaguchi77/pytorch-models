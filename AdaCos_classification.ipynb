{
  "nbformat": 4,
  "nbformat_minor": 0,
  "metadata": {
    "colab": {
      "name": "Untitled48.ipynb",
      "provenance": [],
      "include_colab_link": true
    },
    "kernelspec": {
      "name": "python3",
      "display_name": "Python 3"
    },
    "accelerator": "GPU"
  },
  "cells": [
    {
      "cell_type": "markdown",
      "metadata": {
        "id": "view-in-github",
        "colab_type": "text"
      },
      "source": [
        "<a href=\"https://colab.research.google.com/github/ykitaguchi77/pytorch-models/blob/master/AdaCos_classification.ipynb\" target=\"_parent\"><img src=\"https://colab.research.google.com/assets/colab-badge.svg\" alt=\"Open In Colab\"/></a>"
      ]
    },
    {
      "cell_type": "markdown",
      "metadata": {
        "id": "rd56WsR6cDrM",
        "colab_type": "text"
      },
      "source": [
        "#Arcface-pytorch (AdaCos)\n",
        "https://github.com/ronghuaiyang/arcface-pytorch/blob/master/models/metrics.py\n",
        "Colabのスクリプト　https://cpp-learning.com/adacos/"
      ]
    },
    {
      "cell_type": "code",
      "metadata": {
        "id": "4QU5Sq4BbvfA",
        "colab_type": "code",
        "colab": {}
      },
      "source": [
        "import os\n",
        "# import argparse\n",
        "import numpy as np\n",
        "import pandas as pd\n",
        "import math\n",
        "from tqdm import tqdm\n",
        "import joblib\n",
        "from collections import OrderedDict\n",
        " \n",
        "import torch\n",
        "import torch.nn as nn\n",
        "import torch.nn.functional as F\n",
        "from torch.nn import Parameter\n",
        "import torch.backends.cudnn as cudnn\n",
        "import torch.optim as optim\n",
        "from torch.optim import lr_scheduler\n",
        "from torchvision import datasets, models, transforms\n",
        " \n",
        "# from utils import *\n",
        "# from mnist import archs\n",
        "# import metrics\n",
        "\n",
        "use_cuda = torch.cuda.is_available() and True\n",
        "device = torch.device(\"cuda\" if use_cuda else \"cpu\")"
      ],
      "execution_count": 0,
      "outputs": []
    },
    {
      "cell_type": "code",
      "metadata": {
        "id": "kRvJFGKtKFHO",
        "colab_type": "code",
        "colab": {
          "base_uri": "https://localhost:8080/",
          "height": 173
        },
        "outputId": "c46cdca8-18bd-43c1-f231-a6f961ac9bc1"
      },
      "source": [
        "'''\n",
        "フォルダ構成(※class名は4文字にすること)\n",
        "---dataset.zip-----train-----appl\n",
        "               |          |--stra\n",
        "               |\n",
        "               |---val-------appl\n",
        "                          |--stra\n",
        "'''\n",
        "\n",
        "\n",
        "from google.colab import drive\n",
        "drive.mount('/content/drive')\n",
        "\n",
        "#dataset.zipを解凍\n",
        "\n",
        "!date -R\n",
        "!unzip -qq drive/My\\ Drive/AI_laboratory_course/dataset.zip\n",
        "!date -R\n",
        "!ls"
      ],
      "execution_count": 1,
      "outputs": [
        {
          "output_type": "stream",
          "text": [
            "Go to this URL in a browser: https://accounts.google.com/o/oauth2/auth?client_id=947318989803-6bn6qk8qdgf4n4g3pfee6491hc0brc4i.apps.googleusercontent.com&redirect_uri=urn%3aietf%3awg%3aoauth%3a2.0%3aoob&response_type=code&scope=email%20https%3a%2f%2fwww.googleapis.com%2fauth%2fdocs.test%20https%3a%2f%2fwww.googleapis.com%2fauth%2fdrive%20https%3a%2f%2fwww.googleapis.com%2fauth%2fdrive.photos.readonly%20https%3a%2f%2fwww.googleapis.com%2fauth%2fpeopleapi.readonly\n",
            "\n",
            "Enter your authorization code:\n",
            "··········\n",
            "Mounted at /content/drive\n",
            "Mon, 20 Apr 2020 10:37:03 +0000\n",
            "Mon, 20 Apr 2020 10:37:14 +0000\n",
            "drive  sample_data  train  val\n"
          ],
          "name": "stdout"
        }
      ]
    },
    {
      "cell_type": "code",
      "metadata": {
        "id": "KnrhI1dIKtow",
        "colab_type": "code",
        "colab": {
          "base_uri": "https://localhost:8080/",
          "height": 136
        },
        "outputId": "1c4dfd37-5897-423a-ac60-a7bb02a75fb9"
      },
      "source": [
        "# 入力画像の前処理をするクラス\n",
        "# 訓練時と推論時で処理が異なる\n",
        "\n",
        "\"\"\"\n",
        "    画像の前処理クラス。訓練時、検証時で異なる動作をする。\n",
        "    画像のサイズをリサイズし、色を標準化する。\n",
        "    訓練時はRandomResizedCropとRandomHorizontalFlipでデータオーギュメンテーションする。\n",
        "\n",
        "\n",
        "    Attributes\n",
        "    ----------\n",
        "    resize : int\n",
        "        リサイズ先の画像の大きさ。\n",
        "    mean : (R, G, B)\n",
        "        各色チャネルの平均値。\n",
        "    std : (R, G, B)\n",
        "        各色チャネルの標準偏差。\n",
        "\"\"\"\n",
        "\n",
        "data_transforms = {\n",
        "    'train': transforms.Compose([\n",
        "        transforms.RandomResizedCrop(224, scale=(0.5,1.0)),\n",
        "        transforms.RandomHorizontalFlip(),\n",
        "        transforms.ToTensor(),\n",
        "        transforms.Normalize([0.485, 0.456, 0.406], [0.229, 0.224, 0.225])\n",
        "    ]),\n",
        "    'val': transforms.Compose([\n",
        "        transforms.Resize(256),\n",
        "        transforms.CenterCrop(224),\n",
        "        transforms.ToTensor(),\n",
        "        transforms.Normalize([0.485, 0.456, 0.406], [0.229, 0.224, 0.225])\n",
        "    ]),\n",
        "}\n",
        "\n",
        "\n",
        "data_dir = '/content'\n",
        "train_set = datasets.ImageFolder(os.path.join(data_dir, 'train'),data_transforms['train'])\n",
        "val_set = datasets.ImageFolder(os.path.join(data_dir, 'val'),data_transforms['val'])\n",
        "\n",
        "train_loader = torch.utils.data.DataLoader(\n",
        "        train_set,\n",
        "        batch_size=20,\n",
        "        shuffle=True,\n",
        "        num_workers=4)\n",
        "val_loader = torch.utils.data.DataLoader(\n",
        "        val_set,\n",
        "        batch_size=20,\n",
        "        shuffle=False,\n",
        "        num_workers=4)\n",
        "\n",
        "\n",
        "#Print dataset detail\n",
        "image_datasets = {x: datasets.ImageFolder(os.path.join(data_dir, x),\n",
        "                                          data_transforms[x])\n",
        "                  for x in ['train', 'val']}\n",
        "dataset_sizes = {x: len(image_datasets[x]) for x in ['train', 'val']}\n",
        "class_names = image_datasets['train'].classes\n",
        "\n",
        "print(class_names)\n",
        "k=0\n",
        "for i in class_names:\n",
        "    print(class_names[k]+\"_train:\"+str(len(os.listdir(path= data_dir + '/train/'+class_names[k]))))\n",
        "    k+=1\n",
        "k=0\n",
        "for i in class_names:\n",
        "    print(class_names[k]+\"_val:\"+str(len(os.listdir(path= data_dir + '/val/'+class_names[k]))))\n",
        "    k+=1\n",
        "\n",
        "print(\"training data set_total：\"+ str(len(image_datasets['train'])))\n",
        "print(\"validating data set_total：\"+str(len(image_datasets['val'])))"
      ],
      "execution_count": 8,
      "outputs": [
        {
          "output_type": "stream",
          "text": [
            "['appl', 'stra']\n",
            "appl_train:252\n",
            "stra_train:252\n",
            "appl_val:67\n",
            "stra_val:60\n",
            "training data set_total：504\n",
            "validating data set_total：127\n"
          ],
          "name": "stdout"
        }
      ]
    },
    {
      "cell_type": "markdown",
      "metadata": {
        "id": "m6zp_CUJeLEl",
        "colab_type": "text"
      },
      "source": [
        "#AdaCos class"
      ]
    },
    {
      "cell_type": "code",
      "metadata": {
        "id": "DBet43GUeNOs",
        "colab_type": "code",
        "colab": {}
      },
      "source": [
        "class AdaCos(nn.Module):\n",
        "    def __init__(self, num_features, num_classes, m=0.50):\n",
        "        super(AdaCos, self).__init__()\n",
        "        self.num_features = num_features\n",
        "        # self.n_classes = num_classes\n",
        "        self.s = math.sqrt(2) * math.log(num_classes - 1)\n",
        "        self.m = m\n",
        "        self.W = Parameter(torch.FloatTensor(num_classes, num_features))\n",
        "        nn.init.xavier_uniform_(self.W)\n",
        " \n",
        "    def forward(self, input, label):\n",
        "        # normalize features\n",
        "        x = F.normalize(input)\n",
        "        # normalize weights\n",
        "        W = F.normalize(self.W)\n",
        "        # dot product\n",
        "        logits = F.linear(x, W)\n",
        "        # add margin\n",
        "        theta = torch.acos(torch.clamp(logits, -1.0 + 1e-7, 1.0 - 1e-7))\n",
        "        target_logits = torch.cos(theta + self.m)\n",
        "        one_hot = torch.zeros_like(logits)\n",
        "        one_hot.scatter_(1, label.view(-1, 1).long(), 1)\n",
        "        output = logits * (1 - one_hot) + target_logits * one_hot\n",
        "        # feature re-scale\n",
        "        with torch.no_grad():\n",
        "            B_avg = torch.where(one_hot < 1, self.s * torch.exp(logits), torch.zeros_like(logits))\n",
        "            B_avg = torch.sum(B_avg) / input.size(0)\n",
        "            # print(B_avg)\n",
        "            theta_med = torch.median(theta)\n",
        "            self.s = torch.log(B_avg) / torch.cos(torch.min(math.pi/4 * torch.ones_like(theta_med), theta_med))\n",
        "        # print(self.s)\n",
        "        output *= self.s\n",
        " \n",
        "        return output"
      ],
      "execution_count": 0,
      "outputs": []
    },
    {
      "cell_type": "markdown",
      "metadata": {
        "id": "SfDe2yvDdH_1",
        "colab_type": "text"
      },
      "source": [
        "#平均値・Accuracy計算"
      ]
    },
    {
      "cell_type": "code",
      "metadata": {
        "id": "Cyh-B68Tc5lT",
        "colab_type": "code",
        "colab": {}
      },
      "source": [
        "\n",
        "class AverageMeter(object):\n",
        "    \"\"\"Computes and stores the average and current value\"\"\"\n",
        "    def __init__(self):\n",
        "        self.reset()\n",
        "\n",
        "    def reset(self):\n",
        "        self.val = 0\n",
        "        self.avg = 0\n",
        "        self.sum = 0\n",
        "        self.count = 0\n",
        "\n",
        "    def update(self, val, n=1):\n",
        "        self.val = val\n",
        "        self.sum += val * n\n",
        "        self.count += n\n",
        "        self.avg = self.sum / self.count\n",
        "\n",
        "\n",
        "def accuracy(output, target, topk=(1,)):\n",
        "    \"\"\"Computes the accuracy over the k top predictions for the specified values of k\"\"\"\n",
        "    with torch.no_grad():\n",
        "        maxk = max(topk)\n",
        "        batch_size = target.size(0)\n",
        "\n",
        "        _, pred = output.topk(maxk, 1, True, True)\n",
        "        pred = pred.t()\n",
        "        correct = pred.eq(target.view(1, -1).expand_as(pred))\n",
        "\n",
        "        res = []\n",
        "        for k in topk:\n",
        "            correct_k = correct[:k].view(-1).float().sum(0, keepdim=True)\n",
        "            res.append(correct_k.mul_(100.0 / batch_size))\n",
        "        return res"
      ],
      "execution_count": 0,
      "outputs": []
    },
    {
      "cell_type": "markdown",
      "metadata": {
        "id": "T34waB3OdQsX",
        "colab_type": "text"
      },
      "source": [
        "#Train"
      ]
    },
    {
      "cell_type": "code",
      "metadata": {
        "id": "RkXu-7NKdLEc",
        "colab_type": "code",
        "colab": {}
      },
      "source": [
        "def train(train_loader, model, metric_fc, criterion, optimizer):\n",
        "    losses = AverageMeter()\n",
        "    acc1s = AverageMeter()\n",
        " \n",
        "    # switch to train mode\n",
        "    model.train()\n",
        "    metric_fc.train()\n",
        " \n",
        "    for i, (input, target) in tqdm(enumerate(train_loader), total=len(train_loader)):\n",
        "        input = input.to(device)\n",
        "        target = target.to(device)\n",
        " \n",
        "        feature = model(input)\n",
        "        output = metric_fc(feature, target)\n",
        "        loss = criterion(output, target)\n",
        " \n",
        "        acc1, = accuracy(output, target, topk=(1,))\n",
        " \n",
        "        losses.update(loss.item(), input.size(0))\n",
        "        acc1s.update(acc1.item(), input.size(0))\n",
        " \n",
        "        # compute gradient and do optimizing step\n",
        "        optimizer.zero_grad()\n",
        "        loss.backward()\n",
        "        optimizer.step()\n",
        " \n",
        "    log = OrderedDict([\n",
        "        ('loss', losses.avg),\n",
        "        ('acc1', acc1s.avg),\n",
        "    ])\n",
        " \n",
        "    return log"
      ],
      "execution_count": 0,
      "outputs": []
    },
    {
      "cell_type": "markdown",
      "metadata": {
        "id": "cV8ASXBwdZjZ",
        "colab_type": "text"
      },
      "source": [
        "#Val"
      ]
    },
    {
      "cell_type": "code",
      "metadata": {
        "id": "WkCrGcsddajm",
        "colab_type": "code",
        "colab": {}
      },
      "source": [
        "def validate(val_loader, model, metric_fc, criterion):\n",
        "    losses = AverageMeter()\n",
        "    acc1s = AverageMeter()\n",
        "\n",
        "    # switch to evaluate mode\n",
        "    model.eval()\n",
        "    metric_fc.eval()\n",
        "\n",
        "    with torch.no_grad():\n",
        "        for i, (input, target) in tqdm(enumerate(val_loader), total=len(val_loader)):\n",
        "            input = input.to(device)\n",
        "            target = target.to(device)\n",
        "\n",
        "            feature = model(input)\n",
        "            output = metric_fc(feature, target)\n",
        "            loss = criterion(output, target)\n",
        "\n",
        "            acc1, = accuracy(output, target, topk=(1,))\n",
        "\n",
        "            losses.update(loss.item(), input.size(0))\n",
        "            acc1s.update(acc1.item(), input.size(0))\n",
        "\n",
        "    log = OrderedDict([\n",
        "        ('loss', losses.avg),\n",
        "        ('acc1', acc1s.avg),\n",
        "    ])\n",
        "\n",
        "    return log"
      ],
      "execution_count": 0,
      "outputs": []
    },
    {
      "cell_type": "markdown",
      "metadata": {
        "id": "3yHGQ9H5dgo7",
        "colab_type": "text"
      },
      "source": [
        "#Connect instances from Net to metric_fc"
      ]
    },
    {
      "cell_type": "code",
      "metadata": {
        "id": "WgzagUG8dxql",
        "colab_type": "code",
        "colab": {}
      },
      "source": [
        "model_ft = models.resnet18(pretrained = False)\n",
        "model_ft = model_ft.to(device)\n",
        "num_features = model_ft.fc.out_features\n",
        "metric_fc = AdaCos(num_features, num_classes=10).to(device)"
      ],
      "execution_count": 0,
      "outputs": []
    },
    {
      "cell_type": "markdown",
      "metadata": {
        "id": "2NWUbr8Zefz5",
        "colab_type": "text"
      },
      "source": [
        "#Set parameters"
      ]
    },
    {
      "cell_type": "code",
      "metadata": {
        "id": "8WxYDEXqejz4",
        "colab_type": "code",
        "colab": {}
      },
      "source": [
        "epochs = 25\n",
        " \n",
        "optimizer = optim.SGD(model_ft.parameters(), lr=1e-3, momentum=0.9, weight_decay=1e-4)\n",
        "# optimizer = optim.Adam(model.parameters(), lr=0.02)\n",
        " \n",
        "scheduler = lr_scheduler.CosineAnnealingLR(optimizer, T_max=epochs, eta_min=1e-3)\n",
        " \n",
        "criterion = nn.CrossEntropyLoss().to(device)\n"
      ],
      "execution_count": 0,
      "outputs": []
    },
    {
      "cell_type": "markdown",
      "metadata": {
        "id": "tjUA9JmdetuF",
        "colab_type": "text"
      },
      "source": [
        "#Start learning"
      ]
    },
    {
      "cell_type": "code",
      "metadata": {
        "id": "9ltaybKuevh_",
        "colab_type": "code",
        "outputId": "53af8b40-30ba-47ab-d797-fcf8c698b6b1",
        "colab": {
          "base_uri": "https://localhost:8080/",
          "height": 102
        }
      },
      "source": [
        "log = pd.DataFrame(index=[],\n",
        "                   columns=[ 'epoch', 'lr', 'loss', 'acc1', 'val_loss', 'val_acc1'])\n",
        "best_loss = float('inf')\n",
        " \n",
        "for epoch in range(epochs):\n",
        "    print('Epoch [%d/%d]' %(epoch+1, epochs))\n",
        " \n",
        "    scheduler.step()\n",
        " \n",
        "    # train for one epoch\n",
        "    train_log = train(train_loader, model_ft, metric_fc, criterion, optimizer)\n",
        "    # evaluate on validation set\n",
        "    val_log = validate(val_loader, model_ft, metric_fc, criterion)\n",
        " \n",
        "    print('loss %.4f - acc1 %.4f - val_loss %.4f - val_acc %.4f'\n",
        "            %(train_log['loss'], train_log['acc1'], val_log['loss'], val_log['acc1']))\n",
        " \n",
        "    tmp = pd.Series([\n",
        "            epoch,\n",
        "            scheduler.get_lr()[0],\n",
        "            train_log['loss'],\n",
        "            train_log['acc1'],\n",
        "            val_log['loss'],\n",
        "            val_log['acc1'],\n",
        "        ], index=['epoch', 'lr', 'loss', 'acc1', 'val_loss', 'val_acc1'])\n",
        " \n",
        "    log = log.append(tmp, ignore_index=True)\n",
        "    log.to_csv('models_log.csv', index=False)\n",
        " \n",
        "    if val_log['loss'] < best_loss:\n",
        "        torch.save(model_ft.state_dict(), 'model.pth')\n",
        "        best_loss = val_log['loss'] \n",
        "        print(\"> saved best model\")"
      ],
      "execution_count": 0,
      "outputs": [
        {
          "output_type": "stream",
          "text": [
            "100%|██████████| 26/26 [00:10<00:00,  2.60it/s]\n",
            "100%|██████████| 7/7 [00:02<00:00,  3.07it/s]"
          ],
          "name": "stderr"
        },
        {
          "output_type": "stream",
          "text": [
            "loss 0.6920 - acc1 84.3254 - val_loss 0.7668 - val_acc 86.6142\n",
            "Epoch [21/25]\n"
          ],
          "name": "stdout"
        },
        {
          "output_type": "stream",
          "text": [
            "\n",
            " 42%|████▏     | 11/26 [00:04<00:04,  3.46it/s]"
          ],
          "name": "stderr"
        }
      ]
    }
  ]
}