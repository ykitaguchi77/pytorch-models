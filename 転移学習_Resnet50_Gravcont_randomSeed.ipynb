{
  "nbformat": 4,
  "nbformat_minor": 0,
  "metadata": {
    "colab": {
      "name": "Untitled14.ipynb",
      "provenance": [],
      "include_colab_link": true
    },
    "kernelspec": {
      "name": "python3",
      "display_name": "Python 3"
    },
    "accelerator": "GPU",
    "widgets": {
      "application/vnd.jupyter.widget-state+json": {
        "1f2f9ef83c514143a7cb717ad98fe330": {
          "model_module": "@jupyter-widgets/controls",
          "model_name": "HBoxModel",
          "state": {
            "_view_name": "HBoxView",
            "_dom_classes": [],
            "_model_name": "HBoxModel",
            "_view_module": "@jupyter-widgets/controls",
            "_model_module_version": "1.5.0",
            "_view_count": null,
            "_view_module_version": "1.5.0",
            "box_style": "",
            "layout": "IPY_MODEL_ab735a50965e4c439f5e617435574794",
            "_model_module": "@jupyter-widgets/controls",
            "children": [
              "IPY_MODEL_e5ce359fdd08402eb64296edecfb0bfd",
              "IPY_MODEL_5200c658738a42cc86bf32267a1e5c0c"
            ]
          }
        },
        "ab735a50965e4c439f5e617435574794": {
          "model_module": "@jupyter-widgets/base",
          "model_name": "LayoutModel",
          "state": {
            "_view_name": "LayoutView",
            "grid_template_rows": null,
            "right": null,
            "justify_content": null,
            "_view_module": "@jupyter-widgets/base",
            "overflow": null,
            "_model_module_version": "1.2.0",
            "_view_count": null,
            "flex_flow": null,
            "width": null,
            "min_width": null,
            "border": null,
            "align_items": null,
            "bottom": null,
            "_model_module": "@jupyter-widgets/base",
            "top": null,
            "grid_column": null,
            "overflow_y": null,
            "overflow_x": null,
            "grid_auto_flow": null,
            "grid_area": null,
            "grid_template_columns": null,
            "flex": null,
            "_model_name": "LayoutModel",
            "justify_items": null,
            "grid_row": null,
            "max_height": null,
            "align_content": null,
            "visibility": null,
            "align_self": null,
            "height": null,
            "min_height": null,
            "padding": null,
            "grid_auto_rows": null,
            "grid_gap": null,
            "max_width": null,
            "order": null,
            "_view_module_version": "1.2.0",
            "grid_template_areas": null,
            "object_position": null,
            "object_fit": null,
            "grid_auto_columns": null,
            "margin": null,
            "display": null,
            "left": null
          }
        },
        "e5ce359fdd08402eb64296edecfb0bfd": {
          "model_module": "@jupyter-widgets/controls",
          "model_name": "IntProgressModel",
          "state": {
            "_view_name": "ProgressView",
            "style": "IPY_MODEL_7a59c980c3e047d5a3bda5381131da85",
            "_dom_classes": [],
            "description": "100%",
            "_model_name": "IntProgressModel",
            "bar_style": "success",
            "max": 102502400,
            "_view_module": "@jupyter-widgets/controls",
            "_model_module_version": "1.5.0",
            "value": 102502400,
            "_view_count": null,
            "_view_module_version": "1.5.0",
            "orientation": "horizontal",
            "min": 0,
            "description_tooltip": null,
            "_model_module": "@jupyter-widgets/controls",
            "layout": "IPY_MODEL_1696d005d46d4978a1cc0321cef92b28"
          }
        },
        "5200c658738a42cc86bf32267a1e5c0c": {
          "model_module": "@jupyter-widgets/controls",
          "model_name": "HTMLModel",
          "state": {
            "_view_name": "HTMLView",
            "style": "IPY_MODEL_0b8eb82db17548d6b848f9f325889d08",
            "_dom_classes": [],
            "description": "",
            "_model_name": "HTMLModel",
            "placeholder": "​",
            "_view_module": "@jupyter-widgets/controls",
            "_model_module_version": "1.5.0",
            "value": " 97.8M/97.8M [00:18&lt;00:00, 5.53MB/s]",
            "_view_count": null,
            "_view_module_version": "1.5.0",
            "description_tooltip": null,
            "_model_module": "@jupyter-widgets/controls",
            "layout": "IPY_MODEL_251bf0b0843442e49a24bac736e024cd"
          }
        },
        "7a59c980c3e047d5a3bda5381131da85": {
          "model_module": "@jupyter-widgets/controls",
          "model_name": "ProgressStyleModel",
          "state": {
            "_view_name": "StyleView",
            "_model_name": "ProgressStyleModel",
            "description_width": "initial",
            "_view_module": "@jupyter-widgets/base",
            "_model_module_version": "1.5.0",
            "_view_count": null,
            "_view_module_version": "1.2.0",
            "bar_color": null,
            "_model_module": "@jupyter-widgets/controls"
          }
        },
        "1696d005d46d4978a1cc0321cef92b28": {
          "model_module": "@jupyter-widgets/base",
          "model_name": "LayoutModel",
          "state": {
            "_view_name": "LayoutView",
            "grid_template_rows": null,
            "right": null,
            "justify_content": null,
            "_view_module": "@jupyter-widgets/base",
            "overflow": null,
            "_model_module_version": "1.2.0",
            "_view_count": null,
            "flex_flow": null,
            "width": null,
            "min_width": null,
            "border": null,
            "align_items": null,
            "bottom": null,
            "_model_module": "@jupyter-widgets/base",
            "top": null,
            "grid_column": null,
            "overflow_y": null,
            "overflow_x": null,
            "grid_auto_flow": null,
            "grid_area": null,
            "grid_template_columns": null,
            "flex": null,
            "_model_name": "LayoutModel",
            "justify_items": null,
            "grid_row": null,
            "max_height": null,
            "align_content": null,
            "visibility": null,
            "align_self": null,
            "height": null,
            "min_height": null,
            "padding": null,
            "grid_auto_rows": null,
            "grid_gap": null,
            "max_width": null,
            "order": null,
            "_view_module_version": "1.2.0",
            "grid_template_areas": null,
            "object_position": null,
            "object_fit": null,
            "grid_auto_columns": null,
            "margin": null,
            "display": null,
            "left": null
          }
        },
        "0b8eb82db17548d6b848f9f325889d08": {
          "model_module": "@jupyter-widgets/controls",
          "model_name": "DescriptionStyleModel",
          "state": {
            "_view_name": "StyleView",
            "_model_name": "DescriptionStyleModel",
            "description_width": "",
            "_view_module": "@jupyter-widgets/base",
            "_model_module_version": "1.5.0",
            "_view_count": null,
            "_view_module_version": "1.2.0",
            "_model_module": "@jupyter-widgets/controls"
          }
        },
        "251bf0b0843442e49a24bac736e024cd": {
          "model_module": "@jupyter-widgets/base",
          "model_name": "LayoutModel",
          "state": {
            "_view_name": "LayoutView",
            "grid_template_rows": null,
            "right": null,
            "justify_content": null,
            "_view_module": "@jupyter-widgets/base",
            "overflow": null,
            "_model_module_version": "1.2.0",
            "_view_count": null,
            "flex_flow": null,
            "width": null,
            "min_width": null,
            "border": null,
            "align_items": null,
            "bottom": null,
            "_model_module": "@jupyter-widgets/base",
            "top": null,
            "grid_column": null,
            "overflow_y": null,
            "overflow_x": null,
            "grid_auto_flow": null,
            "grid_area": null,
            "grid_template_columns": null,
            "flex": null,
            "_model_name": "LayoutModel",
            "justify_items": null,
            "grid_row": null,
            "max_height": null,
            "align_content": null,
            "visibility": null,
            "align_self": null,
            "height": null,
            "min_height": null,
            "padding": null,
            "grid_auto_rows": null,
            "grid_gap": null,
            "max_width": null,
            "order": null,
            "_view_module_version": "1.2.0",
            "grid_template_areas": null,
            "object_position": null,
            "object_fit": null,
            "grid_auto_columns": null,
            "margin": null,
            "display": null,
            "left": null
          }
        }
      }
    }
  },
  "cells": [
    {
      "cell_type": "markdown",
      "metadata": {
        "id": "view-in-github",
        "colab_type": "text"
      },
      "source": [
        "<a href=\"https://colab.research.google.com/github/ykitaguchi77/pytorch-models/blob/master/%E8%BB%A2%E7%A7%BB%E5%AD%A6%E7%BF%92_Resnet50_Gravcont_randomSeed.ipynb\" target=\"_parent\"><img src=\"https://colab.research.google.com/assets/colab-badge.svg\" alt=\"Open In Colab\"/></a>"
      ]
    },
    {
      "cell_type": "markdown",
      "metadata": {
        "id": "TrKN5IgcL7xE",
        "colab_type": "text"
      },
      "source": [
        "#GravCont_Resnet_random"
      ]
    },
    {
      "cell_type": "code",
      "metadata": {
        "id": "N1qAsufuyiS6",
        "colab_type": "code",
        "colab": {
          "base_uri": "https://localhost:8080/",
          "height": 51
        },
        "outputId": "4a6951ae-99e3-4210-e8f8-4295cdf121c0"
      },
      "source": [
        "from __future__ import print_function, division\n",
        "\n",
        "import torch\n",
        "import torch.nn as nn\n",
        "import torch.optim as optim\n",
        "from torch.optim import lr_scheduler\n",
        "import torch.utils.data as data\n",
        "import numpy as np\n",
        "import torchvision\n",
        "from torchvision import datasets, models, transforms\n",
        "import matplotlib.pyplot as plt\n",
        "import time\n",
        "import os\n",
        "import copy\n",
        "import math\n",
        "import shutil\n",
        "\n",
        "#Advanced Pytorchから\n",
        "import glob\n",
        "import os.path as osp\n",
        "import random\n",
        "import json\n",
        "from PIL import Image\n",
        "from tqdm import tqdm\n",
        "%matplotlib inline\n",
        "\n",
        "#サポートパッチのインポート\n",
        "from google.colab.patches import cv2_imshow\n",
        "import cv2\n",
        "\n",
        "plt.ion()   # interactive mode\n",
        "device = torch.device(\"cuda:0\" if torch.cuda.is_available() else \"cpu\")\n",
        "\n",
        "# Set random seem for reproducibility\n",
        "manualSeed = 1234\n",
        "#manualSeed = random.randint(1, 10000) # use if you want new results\n",
        "print(\"Random Seed: \", manualSeed)\n",
        "random.seed(manualSeed)\n",
        "torch.manual_seed(manualSeed)"
      ],
      "execution_count": 1,
      "outputs": [
        {
          "output_type": "stream",
          "text": [
            "Random Seed:  1234\n"
          ],
          "name": "stdout"
        },
        {
          "output_type": "execute_result",
          "data": {
            "text/plain": [
              "<torch._C.Generator at 0x7f30be65c4d0>"
            ]
          },
          "metadata": {
            "tags": []
          },
          "execution_count": 1
        }
      ]
    },
    {
      "cell_type": "markdown",
      "metadata": {
        "id": "AjHJcT7B37Wp",
        "colab_type": "text"
      },
      "source": [
        "#Google driveのデータをマウント"
      ]
    },
    {
      "cell_type": "code",
      "metadata": {
        "id": "1O7ViALp35Va",
        "colab_type": "code",
        "outputId": "43935dbb-041f-4bdc-d6c5-2e8e426aa128",
        "colab": {
          "base_uri": "https://localhost:8080/",
          "height": 122
        }
      },
      "source": [
        "'''\n",
        "grav: 甲状腺眼症\n",
        "cont: コントロール\n",
        "黒の空白を挿入することにより225px*225pxの画像を生成、EfficientNetを用いて転移学習\n",
        "－－－－－－－－－－－－－－\n",
        "データの構造\n",
        "gravcont.zip ------grav\n",
        "               |---cont\n",
        "'''                                     \n",
        "\n",
        "#google driveをcolabolatoryにマウント\n",
        "from google.colab import drive\n",
        "drive.mount('/content/drive')\n"
      ],
      "execution_count": 2,
      "outputs": [
        {
          "output_type": "stream",
          "text": [
            "Go to this URL in a browser: https://accounts.google.com/o/oauth2/auth?client_id=947318989803-6bn6qk8qdgf4n4g3pfee6491hc0brc4i.apps.googleusercontent.com&redirect_uri=urn%3aietf%3awg%3aoauth%3a2.0%3aoob&response_type=code&scope=email%20https%3a%2f%2fwww.googleapis.com%2fauth%2fdocs.test%20https%3a%2f%2fwww.googleapis.com%2fauth%2fdrive%20https%3a%2f%2fwww.googleapis.com%2fauth%2fdrive.photos.readonly%20https%3a%2f%2fwww.googleapis.com%2fauth%2fpeopleapi.readonly\n",
            "\n",
            "Enter your authorization code:\n",
            "··········\n",
            "Mounted at /content/drive\n"
          ],
          "name": "stdout"
        }
      ]
    },
    {
      "cell_type": "markdown",
      "metadata": {
        "id": "J_Q9_OvUmgkN",
        "colab_type": "text"
      },
      "source": [
        "#データセットの振り分け\n",
        "\"content/learning/\"のフォルダ内に、\"tranin\"、\"val\"フォルダを作り、データを振り分ける"
      ]
    },
    {
      "cell_type": "code",
      "metadata": {
        "id": "xpofvLeQmgql",
        "colab_type": "code",
        "outputId": "e379e963-7c75-4d0e-f726-2c0823bee465",
        "colab": {
          "base_uri": "https://localhost:8080/",
          "height": 68
        }
      },
      "source": [
        "#処理時間の計測\n",
        "start = time.time()\n",
        "\n",
        "path = '/content/drive/My Drive/Deep_learning/gravcont_processed/'\n",
        "classes = os.listdir(path)\n",
        "print(classes)\n",
        "\n",
        "#os.makedirs('/learning', exist_ok=True)\n",
        "\n",
        "list = [0] * len(classes)\n",
        "train = [0] * len(classes)\n",
        "val = [0] * len(classes)\n",
        "k=0\n",
        "for i in classes:\n",
        "    list[k] = os.listdir(path + i)\n",
        "    train[k] = random.sample(list[k], int(len(list[k])*0.8))\n",
        "    val[k] = [x for x in list[k] if x not in train[k]]\n",
        "    os.makedirs('learning/train/'+i, exist_ok=True) #trainのフォルダを作成\n",
        "    os.makedirs('learning/val/'+i, exist_ok=True) #valのフォルダを作成\n",
        "    for j in train[k]:\n",
        "          shutil.copy(path+i+'/'+j, 'learning/train/'+i)\n",
        "    for j in val[k]:\n",
        "          shutil.copy(path+i+'/'+j, 'learning/val/'+i)\n",
        "\n",
        "print('Process done!!')\n",
        "elapsed_time = time.time() - start\n",
        "print (\"elapsed_time:{0}\".format(elapsed_time) + \"[sec]\")"
      ],
      "execution_count": 3,
      "outputs": [
        {
          "output_type": "stream",
          "text": [
            "['grav', 'cont']\n",
            "Process done!!\n",
            "elapsed_time:234.89908051490784[sec]\n"
          ],
          "name": "stdout"
        }
      ]
    },
    {
      "cell_type": "code",
      "metadata": {
        "id": "X3_B_Wmz4qBh",
        "colab_type": "code",
        "outputId": "73bed5d6-c55f-432f-95ac-6de2e8be1f9f",
        "colab": {
          "base_uri": "https://localhost:8080/",
          "height": 136
        }
      },
      "source": [
        "# 入力画像の前処理をするクラス\n",
        "# 訓練時と推論時で処理が異なる\n",
        "\n",
        "\"\"\"\n",
        "    画像の前処理クラス。訓練時、検証時で異なる動作をする。\n",
        "    画像のサイズをリサイズし、色を標準化する。\n",
        "    訓練時はRandomResizedCropとRandomHorizontalFlipでデータオーギュメンテーションする。\n",
        "\n",
        "\n",
        "    Attributes\n",
        "    ----------\n",
        "    resize : int\n",
        "        リサイズ先の画像の大きさ。\n",
        "    mean : (R, G, B)\n",
        "        各色チャネルの平均値。\n",
        "    std : (R, G, B)\n",
        "        各色チャネルの標準偏差。\n",
        "\"\"\"\n",
        "\n",
        "data_transforms = {\n",
        "    'train': transforms.Compose([\n",
        "        transforms.RandomResizedCrop(224, scale=(0.6,1.0)),\n",
        "        transforms.RandomHorizontalFlip(),\n",
        "        transforms.ToTensor(),\n",
        "        transforms.Normalize([0.485, 0.456, 0.406], [0.229, 0.224, 0.225])\n",
        "    ]),\n",
        "    'val': transforms.Compose([\n",
        "        transforms.Resize(224),\n",
        "        transforms.ToTensor(),\n",
        "        transforms.Normalize([0.485, 0.456, 0.406], [0.229, 0.224, 0.225])\n",
        "    ]),\n",
        "}\n",
        "\n",
        "data_dir = '/content/learning'\n",
        "n_samples = len(data_dir)\n",
        "\n",
        "image_datasets = {x: datasets.ImageFolder(os.path.join(data_dir, x),\n",
        "                                          data_transforms[x])\n",
        "                  for x in ['train', 'val']}\n",
        "dataloaders = {x: torch.utils.data.DataLoader(image_datasets[x], batch_size=20,\n",
        "                                             shuffle=True, num_workers=4)\n",
        "              for x in ['train', 'val']}\n",
        "dataset_sizes = {x: len(image_datasets[x]) for x in ['train', 'val']}\n",
        "class_names = image_datasets['train'].classes\n",
        "\n",
        "device = torch.device(\"cuda:0\" if torch.cuda.is_available() else \"cpu\")\n",
        "\n",
        "\n",
        "\n",
        "print(class_names)\n",
        "k=0\n",
        "for i in class_names:\n",
        "    print(class_names[k]+\"_train:\"+str(len(os.listdir(path='/content/learning/train/'+class_names[k]))))\n",
        "    k+=1\n",
        "k=0\n",
        "for i in class_names:\n",
        "    print(class_names[k]+\"_val:\"+str(len(os.listdir(path='/content/learning/val/'+class_names[k]))))\n",
        "    k+=1\n",
        "\n",
        "print(\"training data set_total：\"+ str(len(image_datasets['train'])))\n",
        "print(\"validating data set_total：\"+str(len(image_datasets['val'])))"
      ],
      "execution_count": 4,
      "outputs": [
        {
          "output_type": "stream",
          "text": [
            "['cont', 'grav']\n",
            "cont_train:256\n",
            "grav_train:252\n",
            "cont_val:65\n",
            "grav_val:63\n",
            "training data set_total：508\n",
            "validating data set_total：128\n"
          ],
          "name": "stdout"
        }
      ]
    },
    {
      "cell_type": "markdown",
      "metadata": {
        "id": "Ug8MDRrs41UQ",
        "colab_type": "text"
      },
      "source": [
        "#少数の画像を可視化"
      ]
    },
    {
      "cell_type": "code",
      "metadata": {
        "id": "84f1PzA041aQ",
        "colab_type": "code",
        "outputId": "d2857436-1a30-486d-ddea-44f2cbb9b656",
        "colab": {
          "base_uri": "https://localhost:8080/",
          "height": 190
        }
      },
      "source": [
        "def imshow(inp, title=None):\n",
        "    \"\"\"Imshow for Tensor.\"\"\"\n",
        "    inp = inp.numpy().transpose((1, 2, 0))\n",
        "    mean = np.array([0.485, 0.456, 0.406])\n",
        "    std = np.array([0.229, 0.224, 0.225])\n",
        "    inp = std * inp + mean\n",
        "    inp = np.clip(inp, 0, 1)\n",
        "    plt.imshow(inp)\n",
        "    if title is not None:\n",
        "        plt.title(title)\n",
        "    plt.pause(0.001)  # pause a bit so that plots are updated\n",
        "\n",
        "\n",
        "# Get a batch of training data\n",
        "inputs, classes = next(iter(dataloaders['train']))\n",
        "\n",
        "# Make a grid from batch\n",
        "out = torchvision.utils.make_grid(inputs)\n",
        "\n",
        "imshow(out, title=[class_names[x] for x in classes])"
      ],
      "execution_count": 5,
      "outputs": [
        {
          "output_type": "display_data",
          "data": {
            "image/png": "[encoded data removed]",
            "text/plain": [
              "<Figure size 432x288 with 1 Axes>"
            ]
          },
          "metadata": {
            "tags": [],
            "needs_background": "light"
          }
        }
      ]
    },
    {
      "cell_type": "markdown",
      "metadata": {
        "id": "PtEyxzUT5CXo",
        "colab_type": "text"
      },
      "source": [
        "#Train models with early stopping class"
      ]
    },
    {
      "cell_type": "code",
      "metadata": {
        "id": "qMkGKi4p5Ceh",
        "colab_type": "code",
        "colab": {}
      },
      "source": [
        "#Defining early stopping class\n",
        "import numpy as np\n",
        "import torch\n",
        "\n",
        "class EarlyStopping:\n",
        "    \"\"\"Early stops the training if validation loss doesn't improve after a given patience.\"\"\"\n",
        "    def __init__(self, patience=7, verbose=False, delta=0):\n",
        "        \"\"\"\n",
        "        Args:\n",
        "            patience (int): How long to wait after last time validation loss improved.\n",
        "                            Default: 7\n",
        "            verbose (bool): If True, prints a message for each validation loss improvement. \n",
        "                            Default: False\n",
        "            delta (float): Minimum change in the monitored quantity to qualify as an improvement.\n",
        "                            Default: 0\n",
        "        \"\"\"\n",
        "        self.patience = patience\n",
        "        self.verbose = verbose\n",
        "        self.counter = 0\n",
        "        self.best_score = None\n",
        "        self.early_stop = False\n",
        "        self.val_loss_min = np.Inf\n",
        "        self.delta = delta\n",
        "\n",
        "    def __call__(self, val_loss, model):\n",
        "\n",
        "        score = -val_loss\n",
        "\n",
        "        if self.best_score is None:\n",
        "            self.best_score = score\n",
        "            self.save_checkpoint(val_loss, model)\n",
        "        elif score < self.best_score + self.delta:\n",
        "            self.counter += 1\n",
        "            print(f'EarlyStopping counter: {self.counter} out of {self.patience}')\n",
        "            if self.counter >= self.patience:\n",
        "                self.early_stop = True\n",
        "        else:\n",
        "            self.best_score = score\n",
        "            self.save_checkpoint(val_loss, model)\n",
        "            self.counter = 0\n",
        "\n",
        "    def save_checkpoint(self, val_loss, model):\n",
        "        '''Saves model when validation loss decrease.'''\n",
        "        if self.verbose:\n",
        "            print(f'Validation loss decreased ({self.val_loss_min:.6f} --> {val_loss:.6f}).  Saving model ...')\n",
        "        torch.save(model.state_dict(), 'checkpoint.pt')\n",
        "        self.val_loss_min = val_loss\n",
        "\n",
        "\n",
        "#Train models\n",
        "def train_model(model, criterion, optimizer, scheduler, patience, num_epochs):\n",
        "    since = time.time()\n",
        "\n",
        "    best_model_wts = copy.deepcopy(model.state_dict())\n",
        "    best_acc = 0.0\n",
        "\n",
        "    # to track the training loss as the model trains\n",
        "    train_loss = []\n",
        "    # to track the validation loss as the model trains\n",
        "    valid_loss = []\n",
        "\n",
        "\n",
        "    # initialize the early_stopping object\n",
        "    early_stopping = EarlyStopping(patience=patience, verbose=True)\n",
        "\n",
        "    for epoch in range(num_epochs):\n",
        "        print('Epoch {}/{}'.format(epoch, num_epochs - 1))\n",
        "        print('-' * 10)\n",
        "\n",
        "        # Each epoch has a training and validation phase\n",
        "        for phase in ['train', 'val']:\n",
        "            if phase == 'train':\n",
        "                model.train()  # Set model to training mode\n",
        "            else:\n",
        "                model.eval()   # Set model to evaluate mode\n",
        "\n",
        "            running_loss = 0.0\n",
        "            running_corrects = 0\n",
        "\n",
        "            # Iterate over data.\n",
        "            for inputs, labels in dataloaders[phase]:\n",
        "                inputs = inputs.to(device)\n",
        "                labels = labels.to(device)\n",
        "\n",
        "                # zero the parameter gradients\n",
        "                optimizer.zero_grad()\n",
        "\n",
        "                # forward\n",
        "                # track history if only in train\n",
        "                with torch.set_grad_enabled(phase == 'train'):\n",
        "                    outputs = model(inputs)\n",
        "                    _, preds = torch.max(outputs, 1)\n",
        "                    loss = criterion(outputs, labels)\n",
        "\n",
        "                    # backward + optimize only if in training phase\n",
        "                    if phase == 'train':\n",
        "                        loss.backward()\n",
        "                        optimizer.step()\n",
        "\n",
        "                # statistics\n",
        "                running_loss += loss.item() * inputs.size(0)\n",
        "                running_corrects += torch.sum(preds == labels.data)\n",
        "\n",
        "            epoch_loss = running_loss / dataset_sizes[phase]\n",
        "            epoch_acc = running_corrects.double() / dataset_sizes[phase] \n",
        "            \n",
        "            # record train_loss and valid_loss\n",
        "            if phase == 'train':\n",
        "                train_loss.append(epoch_loss)\n",
        "                scheduler.step()\n",
        "                print('epoch:{}, lr:{}'.format(epoch, scheduler.get_lr()[0]))\n",
        "            if phase == 'val':\n",
        "                valid_loss.append(epoch_loss)\n",
        "            #print(train_loss)\n",
        "            #print(valid_loss)\n",
        "\n",
        "            print('{} Loss: {:.4f} Acc: {:.4f}'.format(\n",
        "                phase, epoch_loss, epoch_acc))\n",
        "\n",
        "\n",
        "            # deep copy the model\n",
        "            if phase == 'val' and epoch_acc > best_acc:\n",
        "                best_acc = epoch_acc\n",
        "                best_model_wts = copy.deepcopy(model.state_dict())\n",
        "      \n",
        "      # early_stopping needs the validation loss to check if it has decresed, \n",
        "      # and if it has, it will make a checkpoint of the current model\n",
        "        if phase == 'val':    \n",
        "            early_stopping(epoch_loss, model)\n",
        "                \n",
        "            if early_stopping.early_stop:\n",
        "                print(\"Early stopping\")\n",
        "                break\n",
        "        print()\n",
        "\n",
        "\n",
        "    time_elapsed = time.time() - since\n",
        "    print('Training complete in {:.0f}m {:.0f}s'.format(\n",
        "        time_elapsed // 60, time_elapsed % 60))\n",
        "    print('Best val Acc: {:4f}'.format(best_acc))\n",
        "\n",
        "    # load best model weights\n",
        "    model.load_state_dict(best_model_wts)\n",
        "    return model, train_loss, valid_loss\n",
        "\n",
        "\n",
        "#Visualize model\n",
        "def visualize_model(model, num_images=6):\n",
        "    was_training = model.training\n",
        "    model.eval()\n",
        "    images_so_far = 0\n",
        "    fig = plt.figure()\n",
        "\n",
        "    with torch.no_grad():\n",
        "        for i, (inputs, labels) in enumerate(dataloaders['val']):\n",
        "            inputs = inputs.to(device)\n",
        "            labels = labels.to(device)\n",
        "\n",
        "            outputs = model(inputs)\n",
        "            _, preds = torch.max(outputs, 1)\n",
        "\n",
        "            for j in range(inputs.size()[0]):\n",
        "                images_so_far += 1\n",
        "                ax = plt.subplot(num_images//2, 2, images_so_far)\n",
        "                ax.axis('off')\n",
        "                ax.set_title('predicted: {}'.format(class_names[preds[j]]))\n",
        "                imshow(inputs.cpu().data[j])\n",
        "\n",
        "                if images_so_far == num_images:\n",
        "                    model.train(mode=was_training)\n",
        "                    return\n",
        "        model.train(mode=was_training)"
      ],
      "execution_count": 0,
      "outputs": []
    },
    {
      "cell_type": "markdown",
      "metadata": {
        "id": "v3HoQ2LJ5n8Z",
        "colab_type": "text"
      },
      "source": [
        "#Convnetを再調整する"
      ]
    },
    {
      "cell_type": "code",
      "metadata": {
        "id": "BfPV-Jzc5nYS",
        "colab_type": "code",
        "outputId": "78fcdbce-fa8b-4608-97a5-b9a755da57bc",
        "colab": {
          "base_uri": "https://localhost:8080/",
          "height": 103,
          "referenced_widgets": [
            "1f2f9ef83c514143a7cb717ad98fe330",
            "ab735a50965e4c439f5e617435574794",
            "e5ce359fdd08402eb64296edecfb0bfd",
            "5200c658738a42cc86bf32267a1e5c0c",
            "7a59c980c3e047d5a3bda5381131da85",
            "1696d005d46d4978a1cc0321cef92b28",
            "0b8eb82db17548d6b848f9f325889d08",
            "251bf0b0843442e49a24bac736e024cd"
          ]
        }
      },
      "source": [
        "model_ft = models.resnet50(pretrained=True)\n",
        "num_ftrs = model_ft.fc.in_features\n",
        "model_ft.fc = nn.Linear(num_ftrs, 2)\n",
        "\n",
        "#GPU使用\n",
        "model_ft = model_ft.to(device)\n",
        "\n",
        "#損失関数を定義\n",
        "criterion = nn.CrossEntropyLoss()\n",
        "\n",
        "# Observe that all parameters are being optimized\n",
        "optimizer_ft = optim.SGD(model_ft.parameters(), lr=0.001, momentum=0.9)\n",
        "\n",
        "# Decay LR by a factor of 0.1 every 7 epochs\n",
        "#exp_lr_scheduler = lr_scheduler.MultiStepLR(optimizer_ft, milestones=[5, 12, 20, 30], gamma=0.1)\n",
        "exp_lr_scheduler = lr_scheduler.StepLR(optimizer_ft, step_size=7, gamma=0.1)"
      ],
      "execution_count": 7,
      "outputs": [
        {
          "output_type": "stream",
          "text": [
            "Downloading: \"https://download.pytorch.org/models/resnet50-19c8e357.pth\" to /root/.cache/torch/checkpoints/resnet50-19c8e357.pth\n"
          ],
          "name": "stderr"
        },
        {
          "output_type": "display_data",
          "data": {
            "application/vnd.jupyter.widget-view+json": {
              "model_id": "1f2f9ef83c514143a7cb717ad98fe330",
              "version_minor": 0,
              "version_major": 2
            },
            "text/plain": [
              "HBox(children=(IntProgress(value=0, max=102502400), HTML(value='')))"
            ]
          },
          "metadata": {
            "tags": []
          }
        },
        {
          "output_type": "stream",
          "text": [
            "\n"
          ],
          "name": "stdout"
        }
      ]
    },
    {
      "cell_type": "markdown",
      "metadata": {
        "id": "0OiHdwLO50nJ",
        "colab_type": "text"
      },
      "source": [
        "#訓練と評価"
      ]
    },
    {
      "cell_type": "code",
      "metadata": {
        "id": "hEd4dxXC2ImJ",
        "colab_type": "code",
        "outputId": "c7a61abe-85cf-4576-eac8-6bfb3989a46f",
        "colab": {
          "base_uri": "https://localhost:8080/",
          "height": 1000
        }
      },
      "source": [
        "model_ft, train_loss, valid_loss = train_model(model_ft, criterion, optimizer_ft, exp_lr_scheduler, patience=5, num_epochs=50)"
      ],
      "execution_count": 8,
      "outputs": [
        {
          "output_type": "stream",
          "text": [
            "Epoch 0/49\n",
            "----------\n",
            "epoch:0, lr:0.001\n",
            "train Loss: 0.7284 Acc: 0.5492\n",
            "val Loss: 0.6480 Acc: 0.6016\n",
            "Validation loss decreased (inf --> 0.647960).  Saving model ...\n",
            "\n",
            "Epoch 1/49\n",
            "----------\n",
            "epoch:1, lr:0.001\n",
            "train Loss: 0.6348 Acc: 0.6398\n",
            "val Loss: 0.5324 Acc: 0.7031\n",
            "Validation loss decreased (0.647960 --> 0.532351).  Saving model ...\n",
            "\n",
            "Epoch 2/49\n",
            "----------\n",
            "epoch:2, lr:0.001\n",
            "train Loss: 0.4773 Acc: 0.7795\n",
            "val Loss: 0.4788 Acc: 0.7500\n",
            "Validation loss decreased (0.532351 --> 0.478806).  Saving model ...\n",
            "\n",
            "Epoch 3/49\n",
            "----------\n",
            "epoch:3, lr:0.001\n",
            "train Loss: 0.4154 Acc: 0.8051\n",
            "val Loss: 0.4934 Acc: 0.8281\n",
            "EarlyStopping counter: 1 out of 5\n",
            "\n",
            "Epoch 4/49\n",
            "----------\n",
            "epoch:4, lr:0.001\n",
            "train Loss: 0.3410 Acc: 0.8504\n",
            "val Loss: 0.4276 Acc: 0.8125\n",
            "Validation loss decreased (0.478806 --> 0.427647).  Saving model ...\n",
            "\n",
            "Epoch 5/49\n",
            "----------\n",
            "epoch:5, lr:0.001\n",
            "train Loss: 0.3382 Acc: 0.8504\n",
            "val Loss: 0.4296 Acc: 0.8125\n",
            "EarlyStopping counter: 1 out of 5\n",
            "\n",
            "Epoch 6/49\n",
            "----------\n",
            "epoch:6, lr:1e-05\n",
            "train Loss: 0.2951 Acc: 0.8799\n",
            "val Loss: 0.4729 Acc: 0.7891\n",
            "EarlyStopping counter: 2 out of 5\n",
            "\n",
            "Epoch 7/49\n",
            "----------\n",
            "epoch:7, lr:0.0001\n",
            "train Loss: 0.1962 Acc: 0.9272\n",
            "val Loss: 0.4291 Acc: 0.7969\n",
            "EarlyStopping counter: 3 out of 5\n",
            "\n",
            "Epoch 8/49\n",
            "----------\n",
            "epoch:8, lr:0.0001\n",
            "train Loss: 0.1948 Acc: 0.9311\n",
            "val Loss: 0.4287 Acc: 0.7891\n",
            "EarlyStopping counter: 4 out of 5\n",
            "\n",
            "Epoch 9/49\n",
            "----------\n",
            "epoch:9, lr:0.0001\n",
            "train Loss: 0.1848 Acc: 0.9291\n",
            "val Loss: 0.4468 Acc: 0.7891\n",
            "EarlyStopping counter: 5 out of 5\n",
            "Early stopping\n",
            "Training complete in 1m 19s\n",
            "Best val Acc: 0.828125\n"
          ],
          "name": "stdout"
        }
      ]
    },
    {
      "cell_type": "code",
      "metadata": {
        "id": "0q6L_-4k56Q9",
        "colab_type": "code",
        "outputId": "4e6ba48b-8b26-442d-a885-42dceab766e3",
        "colab": {
          "base_uri": "https://localhost:8080/",
          "height": 585
        }
      },
      "source": [
        "# visualize the loss as the network trained\n",
        "fig = plt.figure(figsize=(10,8))\n",
        "plt.plot(range(1,len(train_loss)+1),train_loss, label='Training Loss')\n",
        "plt.plot(range(1,len(valid_loss)+1),valid_loss,label='Validation Loss')\n",
        "\n",
        "# find position of lowest validation loss\n",
        "minposs = valid_loss.index(min(valid_loss))+1 \n",
        "plt.axvline(minposs, linestyle='--', color='r',label='Early Stopping Checkpoint')\n",
        "\n",
        "plt.xlabel('epochs')\n",
        "plt.ylabel('loss')\n",
        "plt.ylim(0, 1.0) # consistent scale\n",
        "plt.xlim(0, len(train_loss)+1) # consistent scale\n",
        "plt.grid(True)\n",
        "plt.legend()\n",
        "plt.tight_layout()\n",
        "plt.show()\n",
        "fig.savefig('loss_plot.png', bbox_inches='tight')"
      ],
      "execution_count": 9,
      "outputs": [
        {
          "output_type": "display_data",
          "data": {
            "image/png": "[encoded data removed]",
            "text/plain": [
              "<Figure size 720x576 with 1 Axes>"
            ]
          },
          "metadata": {
            "tags": [],
            "needs_background": "light"
          }
        }
      ]
    },
    {
      "cell_type": "code",
      "metadata": {
        "id": "2lg4904lWG7l",
        "colab_type": "code",
        "outputId": "40d32de1-087a-45f5-fd41-f711ab428673",
        "colab": {
          "base_uri": "https://localhost:8080/",
          "height": 581
        }
      },
      "source": [
        "visualize_model(model_ft)"
      ],
      "execution_count": 11,
      "outputs": [
        {
          "output_type": "display_data",
          "data": {
            "image/png": "[encoded data removed]",
            "text/plain": [
              "<Figure size 432x288 with 1 Axes>"
            ]
          },
          "metadata": {
            "tags": [],
            "needs_background": "light"
          }
        },
        {
          "output_type": "display_data",
          "data": {
            "image/png": "[encoded data removed]",
            "text/plain": [
              "<Figure size 432x288 with 1 Axes>"
            ]
          },
          "metadata": {
            "tags": [],
            "needs_background": "light"
          }
        },
        {
          "output_type": "display_data",
          "data": {
            "image/png": "[encoded data removed]",
            "text/plain": [
              "<Figure size 432x288 with 1 Axes>"
            ]
          },
          "metadata": {
            "tags": [],
            "needs_background": "light"
          }
        },
        {
          "output_type": "display_data",
          "data": {
            "image/png": "[encoded data removed]",
            "text/plain": [
              "<Figure size 432x288 with 1 Axes>"
            ]
          },
          "metadata": {
            "tags": [],
            "needs_background": "light"
          }
        },
        {
          "output_type": "display_data",
          "data": {
            "image/png": "[encoded data removed]",
            "text/plain": [
              "<Figure size 432x288 with 1 Axes>"
            ]
          },
          "metadata": {
            "tags": [],
            "needs_background": "light"
          }
        },
        {
          "output_type": "display_data",
          "data": {
            "image/png": "[encoded data removed]",
            "text/plain": [
              "<Figure size 432x288 with 1 Axes>"
            ]
          },
          "metadata": {
            "tags": [],
            "needs_background": "light"
          }
        }
      ]
    },
    {
      "cell_type": "markdown",
      "metadata": {
        "id": "y4tIAy_sXcjz",
        "colab_type": "text"
      },
      "source": [
        "#Calcurate Accuracy\n",
        "・True positive (TN)<br>\n",
        "・False positive (FP)<br>\n",
        "・True negative (TN)<br>\n",
        "・False negative (FN)<br>\n",
        "\n",
        "Accuracy = (TP + TN)/ (TP + TN + FP + FN)<br>\n",
        "Precision = TP/(FP + TP) ※positive predictive value<br>\n",
        "Recall = TP/(TP + FN)　※sensitivity<br>\n",
        "Specificity = TN/(FP + TN)<br>\n",
        "F_value = (2RecallPrecision)/(Recall+Precision)<br>"
      ]
    },
    {
      "cell_type": "code",
      "metadata": {
        "id": "R9hh6KRKZUDd",
        "colab_type": "code",
        "outputId": "c2f806eb-5afe-4f0d-a877-80587b938b02",
        "colab": {
          "base_uri": "https://localhost:8080/",
          "height": 88
        }
      },
      "source": [
        "#valフォルダ内のファイル名を取得\n",
        "image_path = glob.glob(\"/content/learning/val/*/*\")\n",
        "random.shuffle(image_path)  #表示順をランダムにする\n",
        "print(len(image_path))\n",
        "print(image_path) \n",
        "\n",
        "\n",
        "\n",
        "\"\"\"\n",
        "#ファイル名よりラベルを抜き出し、'class_name'と定義\n",
        "class_name = []\n",
        "class_path = glob.glob('/content/drive/My Drive/Deep_learning/applstra/val/*')\n",
        "for i in class_path:\n",
        "    class_name.append(os.path.basename(i))  \n",
        "print(class_name)\n",
        "\"\"\""
      ],
      "execution_count": 12,
      "outputs": [
        {
          "output_type": "stream",
          "text": [
            "128\n",
            "['/content/learning/val/cont/278.jpg', '/content/learning/val/cont/1118.jpg', '/content/learning/val/grav/2803.jpg', '/content/learning/val/cont/1515.jpg', '/content/learning/val/cont/870.JPG', '/content/learning/val/cont/1459.jpg', '/content/learning/val/grav/5125.jpg', '/content/learning/val/cont/229.jpg', '/content/learning/val/grav/4577.JPG', '/content/learning/val/cont/139.jpg', '/content/learning/val/grav/1910.JPG', '/content/learning/val/cont/1234.jpg', '/content/learning/val/cont/775.jpg', '/content/learning/val/cont/1249.jpg', '/content/learning/val/grav/6432.JPG', '/content/learning/val/grav/6764.jpg', '/content/learning/val/cont/821.jpg', '/content/learning/val/cont/1082.jpg', '/content/learning/val/cont/440.jpg', '/content/learning/val/grav/1284.jpg', '/content/learning/val/cont/854.jpg', '/content/learning/val/grav/1396.jpg', '/content/learning/val/cont/401.jpg', '/content/learning/val/grav/2851.jpg', '/content/learning/val/cont/343.jpg', '/content/learning/val/grav/4233.JPG', '/content/learning/val/cont/118.JPG', '/content/learning/val/cont/85.jpg', '/content/learning/val/cont/168.jpg', '/content/learning/val/grav/1001.jpg', '/content/learning/val/grav/2885.JPG', '/content/learning/val/cont/1233.jpg', '/content/learning/val/grav/4125.jpg', '/content/learning/val/cont/934.jpg', '/content/learning/val/grav/5901.jpg', '/content/learning/val/cont/548.jpg', '/content/learning/val/cont/149.jpg', '/content/learning/val/cont/685.jpg', '/content/learning/val/grav/8168.JPG', '/content/learning/val/grav/6518.jpg', '/content/learning/val/grav/8079.JPG', '/content/learning/val/grav/180.jpg', '/content/learning/val/grav/3146.JPG', '/content/learning/val/grav/1457.jpg', '/content/learning/val/grav/7419.JPG', '/content/learning/val/cont/495.JPG', '/content/learning/val/cont/1494.jpg', '/content/learning/val/grav/1304.jpg', '/content/learning/val/grav/7283.jpg', '/content/learning/val/grav/5607.JPG', '/content/learning/val/cont/1193.jpg', '/content/learning/val/grav/7443.JPG', '/content/learning/val/cont/1102.jpg', '/content/learning/val/cont/936.JPG', '/content/learning/val/grav/7765.jpg', '/content/learning/val/cont/1210.jpg', '/content/learning/val/cont/158.jpg', '/content/learning/val/grav/24.jpg', '/content/learning/val/grav/3528.jpg', '/content/learning/val/grav/893.jpg', '/content/learning/val/grav/6298.JPG', '/content/learning/val/grav/1743.JPG', '/content/learning/val/grav/983.JPG', '/content/learning/val/grav/2801.jpg', '/content/learning/val/cont/1414.jpg', '/content/learning/val/grav/4186.JPG', '/content/learning/val/cont/204.jpg', '/content/learning/val/cont/802.jpg', '/content/learning/val/cont/1126.jpg', '/content/learning/val/grav/7346.JPG', '/content/learning/val/grav/5647.jpg', '/content/learning/val/cont/508.JPG', '/content/learning/val/grav/965.JPG', '/content/learning/val/cont/1094.JPG', '/content/learning/val/grav/6150.jpg', '/content/learning/val/grav/2508.jpg', '/content/learning/val/cont/1305.jpg', '/content/learning/val/cont/639.JPG', '/content/learning/val/grav/425.jpg', '/content/learning/val/cont/383.jpg', '/content/learning/val/grav/5543.JPG', '/content/learning/val/cont/444.jpg', '/content/learning/val/grav/1503.jpg', '/content/learning/val/grav/5681.jpg', '/content/learning/val/grav/5378.jpg', '/content/learning/val/cont/1498.JPG', '/content/learning/val/grav/6355.JPG', '/content/learning/val/grav/385.jpg', '/content/learning/val/grav/2407.JPG', '/content/learning/val/grav/17.jpg', '/content/learning/val/grav/1528.JPG', '/content/learning/val/cont/1531.jpg', '/content/learning/val/grav/4030.jpg', '/content/learning/val/grav/1259.JPG', '/content/learning/val/cont/292.jpg', '/content/learning/val/cont/914.jpg', '/content/learning/val/cont/1023.jpg', '/content/learning/val/grav/3843.JPG', '/content/learning/val/cont/1490.JPG', '/content/learning/val/grav/7397.JPG', '/content/learning/val/cont/932.JPG', '/content/learning/val/cont/1281.jpg', '/content/learning/val/cont/196.jpg', '/content/learning/val/grav/2794.jpg', '/content/learning/val/cont/1319.jpg', '/content/learning/val/grav/7552.JPG', '/content/learning/val/cont/1241.jpg', '/content/learning/val/grav/5551.jpg', '/content/learning/val/grav/5426.JPG', '/content/learning/val/cont/38.JPG', '/content/learning/val/cont/1182.jpg', '/content/learning/val/cont/760.jpg', '/content/learning/val/cont/1428.jpg', '/content/learning/val/cont/958.jpg', '/content/learning/val/grav/5015.jpg', '/content/learning/val/grav/3752.JPG', '/content/learning/val/grav/1786.JPG', '/content/learning/val/cont/234.jpg', '/content/learning/val/grav/6147.jpg', '/content/learning/val/cont/1111.jpg', '/content/learning/val/cont/806.jpg', '/content/learning/val/cont/998.jpg', '/content/learning/val/cont/225.jpg', '/content/learning/val/cont/1039.jpg', '/content/learning/val/grav/19.jpg', '/content/learning/val/grav/36.jpg', '/content/learning/val/cont/137.jpg', '/content/learning/val/cont/1254.JPG']\n"
          ],
          "name": "stdout"
        },
        {
          "output_type": "execute_result",
          "data": {
            "text/plain": [
              "\"\\n#ファイル名よりラベルを抜き出し、'class_name'と定義\\nclass_name = []\\nclass_path = glob.glob('/content/drive/My Drive/Deep_learning/applstra/val/*')\\nfor i in class_path:\\n    class_name.append(os.path.basename(i))  \\nprint(class_name)\\n\""
            ]
          },
          "metadata": {
            "tags": []
          },
          "execution_count": 12
        }
      ]
    },
    {
      "cell_type": "markdown",
      "metadata": {
        "id": "yn78plUyakd0",
        "colab_type": "text"
      },
      "source": [
        "#画像とラベル表示のための関数を定義"
      ]
    },
    {
      "cell_type": "code",
      "metadata": {
        "id": "isr8jLRGaf1d",
        "colab_type": "code",
        "colab": {}
      },
      "source": [
        "#対象のパスからラベルを抜き出して表示\n",
        "def getlabel(image_path):\n",
        "      image_name = os.path.basename(image_path)\n",
        "      label = os.path.basename(os.path.dirname(image_path))\n",
        "      return(image_name, label)\n",
        "\n",
        "'''\n",
        "#変形後の画像を表示\n",
        "def image_transform(image_path):\n",
        "\n",
        "    image=Image.open(image_path)\n",
        "\n",
        "    \n",
        "    #変形した画像を表示する\n",
        "    transform = transforms.Compose([\n",
        "            transforms.Resize(256),\n",
        "            transforms.CenterCrop(224)])\n",
        "    image_transformed = transform(image)\n",
        "    plt.imshow(np.array(image_transformed))\n",
        "'''\n",
        "\n",
        "#評価のための画像下処理\n",
        "def image_transform(image_path):    \n",
        "    image=Image.open(image_path)\n",
        "    transform = transforms.Compose([\n",
        "            transforms.Resize(256),\n",
        "            transforms.CenterCrop(224),\n",
        "            transforms.ToTensor(),\n",
        "            transforms.Normalize([0.485, 0.456, 0.406], [0.229, 0.224, 0.225])])\n",
        "    image_tensor = transform(image)\n",
        "\n",
        "    #バッチサイズの次元を先頭に追加した4Dテンソルに変換\n",
        "    image_tensor.unsqueeze_(0)\n",
        "    #print(image_tensor.size())  # torch.Size([1, 3, 224, 224])\n",
        "    image_tensor = image_tensor.to(device) #model_ftをGPUに載せる\n",
        "\n",
        "    return(image_tensor)\n",
        "\n",
        "#モデルにした処理した画像を投入して予測結果を表示\n",
        "def image_eval(image_tensor, label):\n",
        "    output = model_ft(image_tensor)\n",
        "    #print(output.size())  # torch.Size([1, 1000])\n",
        "    #print(output)\n",
        "\n",
        "    #正解は青色、不正解は赤色で表示する\n",
        "    _, pred = torch.max(output, 1)\n",
        "    model_pred = class_names[pred]\n",
        "\n",
        "    return(model_pred)  #class_nameの番号で出力される\n",
        "\n",
        "def showImage(image_path):\n",
        "    #画像のインポート\n",
        "    img = cv2.imread(image_path, cv2.IMREAD_UNCHANGED)\n",
        "    #画像のリサイズ\n",
        "    height = img.shape[0]\n",
        "    width = img.shape[1]\n",
        "    resized_img = cv2.resize(img, (int(width*300/height), 300))\n",
        "    cv2_imshow(resized_img)\n",
        "\n",
        "def calculateAccuracy (TP, TN, FP, FN):\n",
        "    accuracy = (TP + TN)/ (TP + TN + FP + FN)\n",
        "    precision  = TP/(FP + TP)\n",
        "    recall = TP/(TP + FN)\n",
        "    specificity = TN/(FP + TN)\n",
        "    f_value = (2*recall*precision)/(recall+precision)\n",
        "    return(accuracy, precision, recall, specificity, f_value)"
      ],
      "execution_count": 0,
      "outputs": []
    },
    {
      "cell_type": "code",
      "metadata": {
        "id": "ExhbMh_WXcCN",
        "colab_type": "code",
        "colab": {}
      },
      "source": [
        "TP, FP, TN, FN, TP, FP, TN, FN = [0,0,0,0,0,0,0,0]\n",
        "image_name_list = []\n",
        "label_list = []\n",
        "model_pred_list = []\n",
        "hum_pred_list = []\n",
        "\n",
        "for i in image_path:\n",
        "      image_name, label = getlabel(i)  #画像の名前とラベルを取得\n",
        "      image_tensor = image_transform(i)  #予測のための画像下処理\n",
        "      model_pred = image_eval(image_tensor, label)  #予測結果を出力   \n",
        "      \n",
        "      '''\n",
        "      print('Image: '+ image_name)\n",
        "      print('Label: '+ label)\n",
        "      print('Pred: '+ model_pred)\n",
        "      showImage(i)  #画像を表示\n",
        "      print() #空白行を入れる\n",
        "      time.sleep(0.1)\n",
        "      '''\n",
        "\n",
        "      image_name_list.append(image_name)\n",
        "      label_list.append(label)\n",
        "      model_pred_list.append(model_pred)\n",
        "\n",
        "      if label == class_names[0]:\n",
        "          if model_pred == class_names[0]:\n",
        "              TP += 1\n",
        "          else:\n",
        "              FN += 1\n",
        "      elif label == class_names[1]:\n",
        "          if model_pred == class_names[1]:\n",
        "              TN += 1\n",
        "          else:\n",
        "              FP += 1"
      ],
      "execution_count": 0,
      "outputs": []
    },
    {
      "cell_type": "code",
      "metadata": {
        "id": "v0uHz05lXkJh",
        "colab_type": "code",
        "outputId": "0dddd514-0a2d-47bc-d572-738f35bb8464",
        "colab": {
          "base_uri": "https://localhost:8080/",
          "height": 102
        }
      },
      "source": [
        "#Accuracyを計算\n",
        "accuracy, precision, recall, specificity, f_value = calculateAccuracy (TP, TN, FP, FN)\n",
        "print('Accuracy: ' + str(accuracy))\n",
        "print('Precision (positive predictive value): ' + str(precision))\n",
        "print('Recall (sensitivity): ' + str(recall))\n",
        "print('Specificity: ' + str(specificity))\n",
        "print('F_value: ' + str(f_value))"
      ],
      "execution_count": 16,
      "outputs": [
        {
          "output_type": "stream",
          "text": [
            "Accuracy: 0.8046875\n",
            "Precision (positive predictive value): 0.8225806451612904\n",
            "Recall (sensitivity): 0.7846153846153846\n",
            "Specificity: 0.8253968253968254\n",
            "F_value: 0.8031496062992126\n"
          ],
          "name": "stdout"
        }
      ]
    },
    {
      "cell_type": "markdown",
      "metadata": {
        "id": "ThU3RXkkWIxT",
        "colab_type": "text"
      },
      "source": [
        "#ネットワークの保存"
      ]
    },
    {
      "cell_type": "code",
      "metadata": {
        "id": "xoJ_io0IWI99",
        "colab_type": "code",
        "colab": {}
      },
      "source": [
        "#ネットワークの保存\n",
        "PATH = '/content/drive/My Drive/Deep_learning/GravCont_Resnet50.pth'\n",
        "torch.save(model_ft.state_dict(), PATH)"
      ],
      "execution_count": 0,
      "outputs": []
    },
    {
      "cell_type": "markdown",
      "metadata": {
        "id": "maCH6kp5czLE",
        "colab_type": "text"
      },
      "source": [
        "#データセットの振り分けを保存"
      ]
    },
    {
      "cell_type": "code",
      "metadata": {
        "id": "6OklaVbPcm50",
        "colab_type": "code",
        "colab": {
          "base_uri": "https://localhost:8080/",
          "height": 68
        },
        "outputId": "f22d7d49-1012-46b8-f05d-c289b39f9509"
      },
      "source": [
        "#処理時間の計測\n",
        "start = time.time()\n",
        "\n",
        "path = '/content/drive/My Drive/Deep_learning/gravcont_processed/'\n",
        "seed_path = '/content/drive/My Drive/Deep_learning/gravcont_seed_'+str(manualSeed)\n",
        "\n",
        "if os.path.exists(seed_path):\n",
        "    shutil.rmtree(seed_path)\n",
        "os.makedirs(seed_path, exist_ok=True)\n",
        "\n",
        "classes = os.listdir(path)\n",
        "print(classes)\n",
        "\n",
        "\n",
        "list = [0] * len(classes)\n",
        "train = [0] * len(classes)\n",
        "val = [0] * len(classes)\n",
        "k=0\n",
        "for i in classes:\n",
        "    list[k] = os.listdir(path + i)\n",
        "    train[k] = random.sample(list[k], int(len(list[k])*0.8))\n",
        "    val[k] = [x for x in list[k] if x not in train[k]]\n",
        "    os.makedirs(seed_path +'/train/'+i, exist_ok=True) #trainのフォルダを作成\n",
        "    os.makedirs(seed_path +'/val/'+i, exist_ok=True) #valのフォルダを作成\n",
        "    for j in train[k]:\n",
        "          shutil.copy(path+i+'/'+j, seed_path +'/train/'+i)\n",
        "    for j in val[k]:\n",
        "          shutil.copy(path+i+'/'+j, seed_path +'/val/'+i)\n",
        "\n",
        "print('Process done!!')\n",
        "elapsed_time = time.time() - start\n",
        "print (\"elapsed_time:{0}\".format(elapsed_time) + \"[sec]\")"
      ],
      "execution_count": 32,
      "outputs": [
        {
          "output_type": "stream",
          "text": [
            "['grav', 'cont']\n",
            "Process done!!\n",
            "elapsed_time:7.6959099769592285[sec]\n"
          ],
          "name": "stdout"
        }
      ]
    },
    {
      "cell_type": "code",
      "metadata": {
        "id": "bGIcPcQIsMLb",
        "colab_type": "code",
        "colab": {
          "base_uri": "https://localhost:8080/",
          "height": 51
        },
        "outputId": "2c3c08af-a57e-4596-c6e2-f50008ccda2c"
      },
      "source": [
        "#フォルダを削除するスクリプト\n",
        "directory = '/content/drive/My Drive/Deep_learning/gravcont_seed_1234'\n",
        "files = os.listdir(directory)\n",
        "print(directory)\n",
        "print(files)\n",
        "\n",
        "for i in files:\n",
        "    try:\n",
        "        os.remove(directory+'/'+i)\n",
        "    except IsADirectoryError:\n",
        "        pass\n",
        "\n",
        "shutil.rmtree(directory)"
      ],
      "execution_count": 30,
      "outputs": [
        {
          "output_type": "stream",
          "text": [
            "/content/drive/My Drive/Deep_learning/gravcont_seed_1234\n",
            "['train']\n"
          ],
          "name": "stdout"
        }
      ]
    }
  ]
}