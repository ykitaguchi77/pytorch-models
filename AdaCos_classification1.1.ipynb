{
  "nbformat": 4,
  "nbformat_minor": 0,
  "metadata": {
    "colab": {
      "name": "Untitled48.ipynb",
      "provenance": [],
      "include_colab_link": true
    },
    "kernelspec": {
      "name": "python3",
      "display_name": "Python 3"
    },
    "accelerator": "GPU"
  },
  "cells": [
    {
      "cell_type": "markdown",
      "metadata": {
        "id": "view-in-github",
        "colab_type": "text"
      },
      "source": [
        "<a href=\"https://colab.research.google.com/github/ykitaguchi77/pytorch-models/blob/master/AdaCos_classification1.1.ipynb\" target=\"_parent\"><img src=\"https://colab.research.google.com/assets/colab-badge.svg\" alt=\"Open In Colab\"/></a>"
      ]
    },
    {
      "cell_type": "markdown",
      "metadata": {
        "id": "rd56WsR6cDrM",
        "colab_type": "text"
      },
      "source": [
        "#Arcface-pytorch (AdaCos)\n",
        "https://github.com/ronghuaiyang/arcface-pytorch/blob/master/models/metrics.py\n",
        "Colabのスクリプト　https://cpp-learning.com/adacos/"
      ]
    },
    {
      "cell_type": "code",
      "metadata": {
        "id": "4QU5Sq4BbvfA",
        "colab_type": "code",
        "colab": {}
      },
      "source": [
        "import os\n",
        "# import argparse\n",
        "import numpy as np\n",
        "import pandas as pd\n",
        "import math\n",
        "from tqdm import tqdm\n",
        "import joblib\n",
        "from collections import OrderedDict\n",
        " \n",
        "import torch\n",
        "import torch.nn as nn\n",
        "import torch.nn.functional as F\n",
        "from torch.nn import Parameter\n",
        "import torch.backends.cudnn as cudnn\n",
        "import torch.optim as optim\n",
        "from torch.optim import lr_scheduler\n",
        "from torchvision import datasets, models, transforms\n",
        "import torchvision\n",
        "import matplotlib.pyplot as plt\n",
        "\n",
        " \n",
        "# from utils import *\n",
        "# from mnist import archs\n",
        "# import metrics\n",
        "\n",
        "use_cuda = torch.cuda.is_available() and True\n",
        "device = torch.device(\"cuda\" if use_cuda else \"cpu\")"
      ],
      "execution_count": 0,
      "outputs": []
    },
    {
      "cell_type": "code",
      "metadata": {
        "id": "kRvJFGKtKFHO",
        "colab_type": "code",
        "outputId": "e52ee9c0-8658-4b93-b3f3-0e5783f35101",
        "colab": {
          "base_uri": "https://localhost:8080/",
          "height": 183
        }
      },
      "source": [
        "'''\n",
        "フォルダ構成(※class名は4文字にすること)\n",
        "---dataset.zip-----train-----appl\n",
        "               |          |--stra\n",
        "               |\n",
        "               |---val-------appl\n",
        "                          |--stra\n",
        "'''\n",
        "\n",
        "\n",
        "from google.colab import drive\n",
        "drive.mount('/content/drive')\n",
        "\n",
        "#dataset.zipを解凍\n",
        "\n",
        "!date -R\n",
        "!unzip -qq drive/My\\ Drive/AI_laboratory_course/dataset.zip\n",
        "!date -R\n",
        "!ls"
      ],
      "execution_count": 2,
      "outputs": [
        {
          "output_type": "stream",
          "text": [
            "Go to this URL in a browser: https://accounts.google.com/o/oauth2/auth?client_id=947318989803-6bn6qk8qdgf4n4g3pfee6491hc0brc4i.apps.googleusercontent.com&redirect_uri=urn%3aietf%3awg%3aoauth%3a2.0%3aoob&response_type=code&scope=email%20https%3a%2f%2fwww.googleapis.com%2fauth%2fdocs.test%20https%3a%2f%2fwww.googleapis.com%2fauth%2fdrive%20https%3a%2f%2fwww.googleapis.com%2fauth%2fdrive.photos.readonly%20https%3a%2f%2fwww.googleapis.com%2fauth%2fpeopleapi.readonly\n",
            "\n",
            "Enter your authorization code:\n",
            "··········\n",
            "Mounted at /content/drive\n",
            "Tue, 21 Apr 2020 07:35:52 +0000\n",
            "Tue, 21 Apr 2020 07:36:01 +0000\n",
            "drive  sample_data  train  val\n"
          ],
          "name": "stdout"
        }
      ]
    },
    {
      "cell_type": "code",
      "metadata": {
        "id": "KnrhI1dIKtow",
        "colab_type": "code",
        "outputId": "c9336eeb-5b1b-4ba0-bdb5-b956a14e9a95",
        "colab": {
          "base_uri": "https://localhost:8080/",
          "height": 145
        }
      },
      "source": [
        "# 入力画像の前処理をするクラス\n",
        "# 訓練時と推論時で処理が異なる\n",
        "\n",
        "\"\"\"\n",
        "    画像の前処理クラス。訓練時、検証時で異なる動作をする。\n",
        "    画像のサイズをリサイズし、色を標準化する。\n",
        "    訓練時はRandomResizedCropとRandomHorizontalFlipでデータオーギュメンテーションする。\n",
        "\n",
        "\n",
        "    Attributes\n",
        "    ----------\n",
        "    resize : int\n",
        "        リサイズ先の画像の大きさ。\n",
        "    mean : (R, G, B)\n",
        "        各色チャネルの平均値。\n",
        "    std : (R, G, B)\n",
        "        各色チャネルの標準偏差。\n",
        "\"\"\"\n",
        "\n",
        "data_transforms = {\n",
        "    'train': transforms.Compose([\n",
        "        transforms.RandomResizedCrop(224, scale=(0.5,1.0)),\n",
        "        transforms.RandomHorizontalFlip(),\n",
        "        transforms.ToTensor(),\n",
        "        transforms.Normalize([0.485, 0.456, 0.406], [0.229, 0.224, 0.225])\n",
        "    ]),\n",
        "    'val': transforms.Compose([\n",
        "        transforms.Resize(256),\n",
        "        transforms.CenterCrop(224),\n",
        "        transforms.ToTensor(),\n",
        "        transforms.Normalize([0.485, 0.456, 0.406], [0.229, 0.224, 0.225])\n",
        "    ]),\n",
        "}\n",
        "\n",
        "\n",
        "data_dir = '/content'\n",
        "train_set = datasets.ImageFolder(os.path.join(data_dir, 'train'),data_transforms['train'])\n",
        "val_set = datasets.ImageFolder(os.path.join(data_dir, 'val'),data_transforms['val'])\n",
        "\n",
        "train_loader = torch.utils.data.DataLoader(\n",
        "        train_set,\n",
        "        batch_size=20,\n",
        "        shuffle=True,\n",
        "        num_workers=4)\n",
        "val_loader = torch.utils.data.DataLoader(\n",
        "        val_set,\n",
        "        batch_size=20,\n",
        "        shuffle=False,\n",
        "        num_workers=4)\n",
        "\n",
        "\n",
        "#Print dataset detail\n",
        "image_datasets = {x: datasets.ImageFolder(os.path.join(data_dir, x),\n",
        "                                          data_transforms[x])\n",
        "                  for x in ['train', 'val']}\n",
        "dataset_sizes = {x: len(image_datasets[x]) for x in ['train', 'val']}\n",
        "class_names = image_datasets['train'].classes\n",
        "\n",
        "print(class_names)\n",
        "k=0\n",
        "for i in class_names:\n",
        "    print(class_names[k]+\"_train:\"+str(len(os.listdir(path= data_dir + '/train/'+class_names[k]))))\n",
        "    k+=1\n",
        "k=0\n",
        "for i in class_names:\n",
        "    print(class_names[k]+\"_val:\"+str(len(os.listdir(path= data_dir + '/val/'+class_names[k]))))\n",
        "    k+=1\n",
        "\n",
        "print(\"training data set_total：\"+ str(len(image_datasets['train'])))\n",
        "print(\"validating data set_total：\"+str(len(image_datasets['val'])))"
      ],
      "execution_count": 3,
      "outputs": [
        {
          "output_type": "stream",
          "text": [
            "['appl', 'stra']\n",
            "appl_train:252\n",
            "stra_train:252\n",
            "appl_val:67\n",
            "stra_val:60\n",
            "training data set_total：504\n",
            "validating data set_total：127\n"
          ],
          "name": "stdout"
        }
      ]
    },
    {
      "cell_type": "markdown",
      "metadata": {
        "id": "mMM5OjyUAdyq",
        "colab_type": "text"
      },
      "source": [
        "#少数の画像を可視化する"
      ]
    },
    {
      "cell_type": "code",
      "metadata": {
        "id": "v9yZvmw0AdNn",
        "colab_type": "code",
        "colab": {
          "base_uri": "https://localhost:8080/",
          "height": 170
        },
        "outputId": "8a359fd5-4b48-4064-f4fa-c44895fec1ca"
      },
      "source": [
        "def imshow(inp, title=None):\n",
        "    \"\"\"Imshow for Tensor.\"\"\"\n",
        "    inp = inp.numpy().transpose((1, 2, 0))\n",
        "    mean = np.array([0.485, 0.456, 0.406])\n",
        "    std = np.array([0.229, 0.224, 0.225])\n",
        "    inp = std * inp + mean\n",
        "    inp = np.clip(inp, 0, 1)\n",
        "    plt.imshow(inp)\n",
        "    if title is not None:\n",
        "        plt.title(title)\n",
        "    plt.pause(0.001)  # pause a bit so that plots are updated\n",
        "\n",
        "\n",
        "# Get a batch of training data\n",
        "inputs, classes = next(iter(train_loader))\n",
        "\n",
        "# Make a grid from batch\n",
        "out = torchvision.utils.make_grid(inputs)\n",
        "\n",
        "imshow(out, title=[class_names[x] for x in classes])"
      ],
      "execution_count": 4,
      "outputs": [
        {
          "output_type": "display_data",
          "data": {
            "image/png": "[encoded data removed]",
            "text/plain": [
              "<Figure size 432x288 with 1 Axes>"
            ]
          },
          "metadata": {
            "tags": [],
            "needs_background": "light"
          }
        }
      ]
    },
    {
      "cell_type": "markdown",
      "metadata": {
        "id": "m6zp_CUJeLEl",
        "colab_type": "text"
      },
      "source": [
        "#AdaCos class"
      ]
    },
    {
      "cell_type": "code",
      "metadata": {
        "id": "DBet43GUeNOs",
        "colab_type": "code",
        "colab": {}
      },
      "source": [
        "class AdaCos(nn.Module):\n",
        "    def __init__(self, num_features, num_classes, m=0.50):\n",
        "        super(AdaCos, self).__init__()\n",
        "        self.num_features = num_features\n",
        "        # self.n_classes = num_classes\n",
        "        self.s = math.sqrt(2) * math.log(num_classes - 1)\n",
        "        self.m = m\n",
        "        self.W = Parameter(torch.FloatTensor(num_classes, num_features))\n",
        "        nn.init.xavier_uniform_(self.W)\n",
        " \n",
        "    def forward(self, input, label):\n",
        "        # normalize features\n",
        "        x = F.normalize(input)\n",
        "        # normalize weights\n",
        "        W = F.normalize(self.W)\n",
        "        # dot product\n",
        "        logits = F.linear(x, W)\n",
        "        # add margin\n",
        "        theta = torch.acos(torch.clamp(logits, -1.0 + 1e-7, 1.0 - 1e-7))\n",
        "        target_logits = torch.cos(theta + self.m)\n",
        "        one_hot = torch.zeros_like(logits)\n",
        "        one_hot.scatter_(1, label.view(-1, 1).long(), 1)\n",
        "        output = logits * (1 - one_hot) + target_logits * one_hot\n",
        "        # feature re-scale\n",
        "        with torch.no_grad():\n",
        "            B_avg = torch.where(one_hot < 1, self.s * torch.exp(logits), torch.zeros_like(logits))\n",
        "            B_avg = torch.sum(B_avg) / input.size(0)\n",
        "            # print(B_avg)\n",
        "            theta_med = torch.median(theta)\n",
        "            self.s = torch.log(B_avg) / torch.cos(torch.min(math.pi/4 * torch.ones_like(theta_med), theta_med))\n",
        "        # print(self.s)\n",
        "        output *= self.s\n",
        " \n",
        "        return output"
      ],
      "execution_count": 0,
      "outputs": []
    },
    {
      "cell_type": "markdown",
      "metadata": {
        "id": "SfDe2yvDdH_1",
        "colab_type": "text"
      },
      "source": [
        "#平均値・Accuracy計算"
      ]
    },
    {
      "cell_type": "code",
      "metadata": {
        "id": "Cyh-B68Tc5lT",
        "colab_type": "code",
        "colab": {}
      },
      "source": [
        "\n",
        "class AverageMeter(object):\n",
        "    \"\"\"Computes and stores the average and current value\"\"\"\n",
        "    def __init__(self):\n",
        "        self.reset()\n",
        "\n",
        "    def reset(self):\n",
        "        self.val = 0\n",
        "        self.avg = 0\n",
        "        self.sum = 0\n",
        "        self.count = 0\n",
        "\n",
        "    def update(self, val, n=1):\n",
        "        self.val = val\n",
        "        self.sum += val * n\n",
        "        self.count += n\n",
        "        self.avg = self.sum / self.count\n",
        "\n",
        "\n",
        "def accuracy(output, target, topk=(1,)):\n",
        "    \"\"\"Computes the accuracy over the k top predictions for the specified values of k\"\"\"\n",
        "    with torch.no_grad():\n",
        "        maxk = max(topk)\n",
        "        batch_size = target.size(0)\n",
        "\n",
        "        _, pred = output.topk(maxk, 1, True, True)\n",
        "        pred = pred.t()\n",
        "        correct = pred.eq(target.view(1, -1).expand_as(pred))\n",
        "\n",
        "        res = []\n",
        "        for k in topk:\n",
        "            correct_k = correct[:k].view(-1).float().sum(0, keepdim=True)\n",
        "            res.append(correct_k.mul_(100.0 / batch_size))\n",
        "        return res"
      ],
      "execution_count": 0,
      "outputs": []
    },
    {
      "cell_type": "markdown",
      "metadata": {
        "id": "T34waB3OdQsX",
        "colab_type": "text"
      },
      "source": [
        "#Train"
      ]
    },
    {
      "cell_type": "code",
      "metadata": {
        "id": "RkXu-7NKdLEc",
        "colab_type": "code",
        "colab": {}
      },
      "source": [
        "def train(train_loader, model, metric_fc, criterion, optimizer):\n",
        "    losses = AverageMeter()\n",
        "    acc1s = AverageMeter()\n",
        " \n",
        "    # switch to train mode\n",
        "    model.train()\n",
        "    metric_fc.train()\n",
        " \n",
        "    for i, (input, target) in tqdm(enumerate(train_loader), total=len(train_loader)):\n",
        "        input = input.to(device)\n",
        "        target = target.to(device)\n",
        " \n",
        "        output = model(input)\n",
        "        #feature = model(input)\n",
        "        #output = metric_fc(feature, target)\n",
        "        loss = criterion(output, target)\n",
        " \n",
        "        acc1, = accuracy(output, target, topk=(1,))\n",
        " \n",
        "        losses.update(loss.item(), input.size(0))\n",
        "        acc1s.update(acc1.item(), input.size(0))\n",
        " \n",
        "        # compute gradient and do optimizing step\n",
        "        optimizer.zero_grad()\n",
        "        loss.backward()\n",
        "        optimizer.step()\n",
        " \n",
        "    log = OrderedDict([\n",
        "        ('loss', losses.avg),\n",
        "        ('acc1', acc1s.avg),\n",
        "    ])\n",
        " \n",
        "    return log"
      ],
      "execution_count": 0,
      "outputs": []
    },
    {
      "cell_type": "code",
      "metadata": {
        "id": "KJ7ZUNmNl_Dp",
        "colab_type": "code",
        "colab": {}
      },
      "source": [
        "def train(train_loader, model, metric_fc, criterion, optimizer):\n",
        "    losses = AverageMeter()\n",
        "    acc1s = AverageMeter()\n",
        " \n",
        "    # switch to train mode\n",
        "    model.train()\n",
        "    metric_fc.train()\n",
        " \n",
        "    for i, (input, target) in tqdm(enumerate(train_loader), total=len(train_loader)):\n",
        "        input = input.to(device)\n",
        "        target = target.to(device)\n",
        " \n",
        "        feature = model(input)\n",
        "        output = metric_fc(feature, target)\n",
        "        loss = criterion(output, target)\n",
        " \n",
        "        acc1, = accuracy(output, target, topk=(1,))\n",
        " \n",
        "        losses.update(loss.item(), input.size(0))\n",
        "        acc1s.update(acc1.item(), input.size(0))\n",
        " \n",
        "        # compute gradient and do optimizing step\n",
        "        optimizer.zero_grad()\n",
        "        loss.backward()\n",
        "        optimizer.step()\n",
        " \n",
        "    log = OrderedDict([\n",
        "        ('loss', losses.avg),\n",
        "        ('acc1', acc1s.avg),\n",
        "    ])\n",
        " \n",
        "    return log"
      ],
      "execution_count": 0,
      "outputs": []
    },
    {
      "cell_type": "markdown",
      "metadata": {
        "id": "cV8ASXBwdZjZ",
        "colab_type": "text"
      },
      "source": [
        "#Val"
      ]
    },
    {
      "cell_type": "code",
      "metadata": {
        "id": "WkCrGcsddajm",
        "colab_type": "code",
        "colab": {}
      },
      "source": [
        "def validate(val_loader, model, metric_fc, criterion):\n",
        "    losses = AverageMeter()\n",
        "    acc1s = AverageMeter()\n",
        "\n",
        "    # switch to evaluate mode\n",
        "    model.eval()\n",
        "    metric_fc.eval()\n",
        "\n",
        "    with torch.no_grad():\n",
        "        for i, (input, target) in tqdm(enumerate(val_loader), total=len(val_loader)):\n",
        "            input = input.to(device)\n",
        "            target = target.to(device)\n",
        "\n",
        "            output = model(input)\n",
        "            #feature = model(input)\n",
        "            #output = metric_fc(feature, target)\n",
        "            loss = criterion(output, target)\n",
        "\n",
        "            acc1, = accuracy(output, target, topk=(1,))\n",
        "\n",
        "            losses.update(loss.item(), input.size(0))\n",
        "            acc1s.update(acc1.item(), input.size(0))\n",
        "\n",
        "    log = OrderedDict([\n",
        "        ('loss', losses.avg),\n",
        "        ('acc1', acc1s.avg),\n",
        "    ])\n",
        "\n",
        "    return log"
      ],
      "execution_count": 0,
      "outputs": []
    },
    {
      "cell_type": "code",
      "metadata": {
        "id": "-tCNL2cmmAhv",
        "colab_type": "code",
        "colab": {}
      },
      "source": [
        "def validate(val_loader, model, metric_fc, criterion):\n",
        "    losses = AverageMeter()\n",
        "    acc1s = AverageMeter()\n",
        "\n",
        "    # switch to evaluate mode\n",
        "    model.eval()\n",
        "    metric_fc.eval()\n",
        "\n",
        "    with torch.no_grad():\n",
        "        for i, (input, target) in tqdm(enumerate(val_loader), total=len(val_loader)):\n",
        "            input = input.to(device)\n",
        "            target = target.to(device)\n",
        "\n",
        "            feature = model(input)\n",
        "            output = metric_fc(feature, target)\n",
        "            loss = criterion(output, target)\n",
        "\n",
        "            acc1, = accuracy(output, target, topk=(1,))\n",
        "\n",
        "            losses.update(loss.item(), input.size(0))\n",
        "            acc1s.update(acc1.item(), input.size(0))\n",
        "\n",
        "    log = OrderedDict([\n",
        "        ('loss', losses.avg),\n",
        "        ('acc1', acc1s.avg),\n",
        "    ])\n",
        "\n",
        "    return log"
      ],
      "execution_count": 0,
      "outputs": []
    },
    {
      "cell_type": "markdown",
      "metadata": {
        "id": "GfoeVe0LBqcE",
        "colab_type": "text"
      },
      "source": [
        "#Define the Early Stopping Class"
      ]
    },
    {
      "cell_type": "code",
      "metadata": {
        "id": "o6rDS9EpBmVr",
        "colab_type": "code",
        "colab": {}
      },
      "source": [
        ""
      ],
      "execution_count": 0,
      "outputs": []
    },
    {
      "cell_type": "markdown",
      "metadata": {
        "id": "3yHGQ9H5dgo7",
        "colab_type": "text"
      },
      "source": [
        "#Connect instances from between Model and metric_fc"
      ]
    },
    {
      "cell_type": "code",
      "metadata": {
        "id": "WgzagUG8dxql",
        "colab_type": "code",
        "colab": {}
      },
      "source": [
        "model_ft = models.resnet18(pretrained = False)\n",
        "#num_ftrs = model_ft.fc.in_features\n",
        "#model_ft.fc = nn.Linear(num_ftrs, 2)\n",
        "\n",
        "#GPU使用\n",
        "model_ft = model_ft.to(device)\n",
        "\n",
        "#AdaCosと結合\n",
        "num_features = model_ft.fc.out_features\n",
        "metric_fc = AdaCos(num_features, num_classes=2).to(device)"
      ],
      "execution_count": 0,
      "outputs": []
    },
    {
      "cell_type": "markdown",
      "metadata": {
        "id": "2NWUbr8Zefz5",
        "colab_type": "text"
      },
      "source": [
        "#Set parameters"
      ]
    },
    {
      "cell_type": "code",
      "metadata": {
        "id": "8WxYDEXqejz4",
        "colab_type": "code",
        "colab": {}
      },
      "source": [
        "epochs = 10\n",
        " \n",
        "optimizer = optim.SGD(model_ft.parameters(), lr=0.001, momentum=0.9)\n",
        "# optimizer = optim.Adam(model.parameters(), lr=0.02)\n",
        " \n",
        "#scheduler = lr_scheduler.MultiStepLR(optimizer, milestones=[epoch//2, 3*epoch//4], gamma=0.1) \n",
        "#scheduler = lr_scheduler.CosineAnnealingLR(optimizer, T_max=epochs, eta_min=1e-3)\n",
        "scheduler = lr_scheduler.StepLR(optimizer, step_size=7, gamma=0.1)\n",
        "\n",
        "criterion = nn.CrossEntropyLoss().to(device)\n"
      ],
      "execution_count": 0,
      "outputs": []
    },
    {
      "cell_type": "markdown",
      "metadata": {
        "id": "tjUA9JmdetuF",
        "colab_type": "text"
      },
      "source": [
        "#Start learning"
      ]
    },
    {
      "cell_type": "code",
      "metadata": {
        "id": "9ltaybKuevh_",
        "colab_type": "code",
        "outputId": "c27bc574-3076-40bc-a78d-605ab5ad4759",
        "colab": {
          "base_uri": "https://localhost:8080/",
          "height": 874
        }
      },
      "source": [
        "log = pd.DataFrame(index=[],\n",
        "                   columns=[ 'epoch', 'lr', 'loss', 'acc1', 'val_loss', 'val_acc1'])\n",
        "best_loss = float('inf')\n",
        " \n",
        "for epoch in range(epochs):\n",
        "    print('Epoch [%d/%d]' %(epoch+1, epochs))\n",
        " \n",
        "    scheduler.step()\n",
        " \n",
        "    # train for one epoch\n",
        "    train_log = train(train_loader, model_ft, metric_fc, criterion, optimizer)\n",
        "    # evaluate on validation set\n",
        "    val_log = validate(val_loader, model_ft, metric_fc, criterion)\n",
        "    print('\\nepoch {}, lr: {}' .format(epoch+1, scheduler.get_lr()[0]))\n",
        "    print('train_Loss %.4f  Acc1 %.4f  \\nval_Loss   %.4f  Acc %.4f'\n",
        "            %(train_log['loss'], train_log['acc1'], val_log['loss'], val_log['acc1']))\n",
        " \n",
        "    tmp = pd.Series([\n",
        "            epoch,\n",
        "            scheduler.get_lr()[0],\n",
        "            train_log['loss'],\n",
        "            train_log['acc1'],\n",
        "            val_log['loss'],\n",
        "            val_log['acc1'],\n",
        "        ], index=['epoch', 'lr', 'loss', 'acc1', 'val_loss', 'val_acc1'])\n",
        " \n",
        "    log = log.append(tmp, ignore_index=True)\n",
        "    log.to_csv('models_log.csv', index=False)\n",
        " \n",
        "    if val_log['loss'] < best_loss:\n",
        "        torch.save(model_ft.state_dict(), 'model.pth')\n",
        "        best_loss = val_log['loss'] \n",
        "        print(\"> saved best model\")"
      ],
      "execution_count": 0,
      "outputs": [
        {
          "output_type": "stream",
          "text": [
            "Epoch [1/10]\n"
          ],
          "name": "stdout"
        },
        {
          "output_type": "stream",
          "text": [
            "/usr/local/lib/python3.6/dist-packages/torch/optim/lr_scheduler.py:122: UserWarning: Detected call of `lr_scheduler.step()` before `optimizer.step()`. In PyTorch 1.1.0 and later, you should call them in the opposite order: `optimizer.step()` before `lr_scheduler.step()`.  Failure to do this will result in PyTorch skipping the first value of the learning rate schedule. See more details at https://pytorch.org/docs/stable/optim.html#how-to-adjust-learning-rate\n",
            "  \"https://pytorch.org/docs/stable/optim.html#how-to-adjust-learning-rate\", UserWarning)\n",
            "100%|██████████| 26/26 [00:08<00:00,  3.11it/s]\n",
            "100%|██████████| 7/7 [00:01<00:00,  3.57it/s]"
          ],
          "name": "stderr"
        },
        {
          "output_type": "stream",
          "text": [
            "\n",
            "epoch 1, lr: 0.001\n",
            "train_Loss nan  Acc1 2.1825  \n",
            "val_Loss   nan  Acc 0.0000\n",
            "Epoch [2/10]\n"
          ],
          "name": "stdout"
        },
        {
          "output_type": "stream",
          "text": [
            "\n",
            "100%|██████████| 26/26 [00:08<00:00,  3.09it/s]\n",
            "100%|██████████| 7/7 [00:01<00:00,  3.59it/s]"
          ],
          "name": "stderr"
        },
        {
          "output_type": "stream",
          "text": [
            "\n",
            "epoch 2, lr: 0.001\n",
            "train_Loss nan  Acc1 1.7857  \n",
            "val_Loss   nan  Acc 0.0000\n",
            "Epoch [3/10]\n"
          ],
          "name": "stdout"
        },
        {
          "output_type": "stream",
          "text": [
            "\n",
            "100%|██████████| 26/26 [00:08<00:00,  3.11it/s]\n",
            "100%|██████████| 7/7 [00:01<00:00,  3.54it/s]"
          ],
          "name": "stderr"
        },
        {
          "output_type": "stream",
          "text": [
            "\n",
            "epoch 3, lr: 0.001\n",
            "train_Loss nan  Acc1 0.0000  \n",
            "val_Loss   nan  Acc 0.0000\n",
            "Epoch [4/10]\n"
          ],
          "name": "stdout"
        },
        {
          "output_type": "stream",
          "text": [
            "\n",
            "100%|██████████| 26/26 [00:08<00:00,  3.14it/s]\n",
            "100%|██████████| 7/7 [00:01<00:00,  3.58it/s]"
          ],
          "name": "stderr"
        },
        {
          "output_type": "stream",
          "text": [
            "\n",
            "epoch 4, lr: 0.001\n",
            "train_Loss nan  Acc1 0.0000  \n",
            "val_Loss   nan  Acc 0.0000\n",
            "Epoch [5/10]\n"
          ],
          "name": "stdout"
        },
        {
          "output_type": "stream",
          "text": [
            "\n",
            "100%|██████████| 26/26 [00:08<00:00,  3.18it/s]\n",
            "100%|██████████| 7/7 [00:01<00:00,  3.53it/s]"
          ],
          "name": "stderr"
        },
        {
          "output_type": "stream",
          "text": [
            "\n",
            "epoch 5, lr: 0.001\n",
            "train_Loss nan  Acc1 2.1825  \n",
            "val_Loss   nan  Acc 0.0000\n",
            "Epoch [6/10]\n"
          ],
          "name": "stdout"
        },
        {
          "output_type": "stream",
          "text": [
            "\n",
            "100%|██████████| 26/26 [00:08<00:00,  3.13it/s]\n",
            "100%|██████████| 7/7 [00:01<00:00,  3.60it/s]"
          ],
          "name": "stderr"
        },
        {
          "output_type": "stream",
          "text": [
            "\n",
            "epoch 6, lr: 0.001\n",
            "train_Loss nan  Acc1 2.3810  \n",
            "val_Loss   nan  Acc 0.0000\n",
            "Epoch [7/10]\n"
          ],
          "name": "stdout"
        },
        {
          "output_type": "stream",
          "text": [
            "\n",
            " 19%|█▉        | 5/26 [00:03<00:14,  1.43it/s]"
          ],
          "name": "stderr"
        }
      ]
    },
    {
      "cell_type": "code",
      "metadata": {
        "id": "FeMi4-HgmlZB",
        "colab_type": "code",
        "colab": {
          "base_uri": "https://localhost:8080/",
          "height": 265
        },
        "outputId": "1409cf7a-5fab-49ae-c9a1-b88c6598c5de"
      },
      "source": [
        "# visualize the loss as the network trained\n",
        "fig = plt.figure(figsize=(10,8))\n",
        "plt.plot(range(1,len(train_loss)+1),train_loss, label='Training Loss')\n",
        "plt.plot(range(1,len(valid_loss)+1),valid_loss,label='Validation Loss')\n",
        "\n",
        "# find position of lowest validation loss\n",
        "minposs = valid_loss.index(min(valid_loss))+1 \n",
        "plt.axvline(minposs, linestyle='--', color='r',label='Early Stopping Checkpoint')\n",
        "\n",
        "plt.xlabel('epochs')\n",
        "plt.ylabel('loss')\n",
        "plt.ylim(0, 0.5) # consistent scale\n",
        "plt.xlim(0, len(train_loss)+1) # consistent scale\n",
        "plt.grid(True)\n",
        "plt.legend()\n",
        "plt.tight_layout()\n",
        "plt.show()\n",
        "fig.savefig('loss_plot.png', bbox_inches='tight')"
      ],
      "execution_count": 12,
      "outputs": [
        {
          "output_type": "error",
          "ename": "NameError",
          "evalue": "ignored",
          "traceback": [
            "\u001b[0;31m---------------------------------------------------------------------------\u001b[0m",
            "\u001b[0;31mNameError\u001b[0m                                 Traceback (most recent call last)",
            "\u001b[0;32m<ipython-input-12-2a9c251c840c>\u001b[0m in \u001b[0;36m<module>\u001b[0;34m()\u001b[0m\n\u001b[1;32m      1\u001b[0m \u001b[0mfig\u001b[0m \u001b[0;34m=\u001b[0m \u001b[0mplt\u001b[0m\u001b[0;34m.\u001b[0m\u001b[0mfigure\u001b[0m\u001b[0;34m(\u001b[0m\u001b[0mfigsize\u001b[0m\u001b[0;34m=\u001b[0m\u001b[0;34m(\u001b[0m\u001b[0;36m10\u001b[0m\u001b[0;34m,\u001b[0m\u001b[0;36m8\u001b[0m\u001b[0;34m)\u001b[0m\u001b[0;34m)\u001b[0m\u001b[0;34m\u001b[0m\u001b[0;34m\u001b[0m\u001b[0m\n\u001b[0;32m----> 2\u001b[0;31m \u001b[0mplt\u001b[0m\u001b[0;34m.\u001b[0m\u001b[0mplot\u001b[0m\u001b[0;34m(\u001b[0m\u001b[0mrange\u001b[0m\u001b[0;34m(\u001b[0m\u001b[0;36m1\u001b[0m\u001b[0;34m,\u001b[0m\u001b[0mlen\u001b[0m\u001b[0;34m(\u001b[0m\u001b[0mtrain_loss\u001b[0m\u001b[0;34m)\u001b[0m\u001b[0;34m+\u001b[0m\u001b[0;36m1\u001b[0m\u001b[0;34m)\u001b[0m\u001b[0;34m,\u001b[0m\u001b[0mtrain_loss\u001b[0m\u001b[0;34m,\u001b[0m \u001b[0mlabel\u001b[0m\u001b[0;34m=\u001b[0m\u001b[0;34m'Training Loss'\u001b[0m\u001b[0;34m)\u001b[0m\u001b[0;34m\u001b[0m\u001b[0;34m\u001b[0m\u001b[0m\n\u001b[0m\u001b[1;32m      3\u001b[0m \u001b[0mplt\u001b[0m\u001b[0;34m.\u001b[0m\u001b[0mplot\u001b[0m\u001b[0;34m(\u001b[0m\u001b[0mrange\u001b[0m\u001b[0;34m(\u001b[0m\u001b[0;36m1\u001b[0m\u001b[0;34m,\u001b[0m\u001b[0mlen\u001b[0m\u001b[0;34m(\u001b[0m\u001b[0mvalid_loss\u001b[0m\u001b[0;34m)\u001b[0m\u001b[0;34m+\u001b[0m\u001b[0;36m1\u001b[0m\u001b[0;34m)\u001b[0m\u001b[0;34m,\u001b[0m\u001b[0mvalid_loss\u001b[0m\u001b[0;34m,\u001b[0m\u001b[0mlabel\u001b[0m\u001b[0;34m=\u001b[0m\u001b[0;34m'Validation Loss'\u001b[0m\u001b[0;34m)\u001b[0m\u001b[0;34m\u001b[0m\u001b[0;34m\u001b[0m\u001b[0m\n\u001b[1;32m      4\u001b[0m \u001b[0;34m\u001b[0m\u001b[0m\n\u001b[1;32m      5\u001b[0m \u001b[0;31m# find position of lowest validation loss\u001b[0m\u001b[0;34m\u001b[0m\u001b[0;34m\u001b[0m\u001b[0;34m\u001b[0m\u001b[0m\n",
            "\u001b[0;31mNameError\u001b[0m: name 'train_loss' is not defined"
          ]
        },
        {
          "output_type": "display_data",
          "data": {
            "text/plain": [
              "<Figure size 720x576 with 0 Axes>"
            ]
          },
          "metadata": {
            "tags": []
          }
        }
      ]
    }
  ]
}